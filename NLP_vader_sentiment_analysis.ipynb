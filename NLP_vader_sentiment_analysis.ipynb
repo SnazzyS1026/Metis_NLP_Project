{
 "cells": [
  {
   "cell_type": "code",
   "execution_count": 2,
   "id": "85398926",
   "metadata": {},
   "outputs": [],
   "source": [
    "import pandas as pd\n",
    "import numpy as np\n",
    "import matplotlib.pyplot as plt\n",
    "import seaborn as sns\n",
    "%matplotlib inline\n",
    "\n",
    "# Sentiment Analysis\n",
    "from vaderSentiment.vaderSentiment import SentimentIntensityAnalyzer"
   ]
  },
  {
   "cell_type": "markdown",
   "id": "a068eba1",
   "metadata": {},
   "source": [
    "# Load Data"
   ]
  },
  {
   "cell_type": "code",
   "execution_count": 5,
   "id": "1ddff1f6",
   "metadata": {},
   "outputs": [
    {
     "data": {
      "text/html": [
       "<div>\n",
       "<style scoped>\n",
       "    .dataframe tbody tr th:only-of-type {\n",
       "        vertical-align: middle;\n",
       "    }\n",
       "\n",
       "    .dataframe tbody tr th {\n",
       "        vertical-align: top;\n",
       "    }\n",
       "\n",
       "    .dataframe thead th {\n",
       "        text-align: right;\n",
       "    }\n",
       "</style>\n",
       "<table border=\"1\" class=\"dataframe\">\n",
       "  <thead>\n",
       "    <tr style=\"text-align: right;\">\n",
       "      <th></th>\n",
       "      <th>Review_ID</th>\n",
       "      <th>Rating</th>\n",
       "      <th>Year_Month</th>\n",
       "      <th>Reviewer_Location</th>\n",
       "      <th>Review_Text</th>\n",
       "      <th>Branch</th>\n",
       "    </tr>\n",
       "  </thead>\n",
       "  <tbody>\n",
       "    <tr>\n",
       "      <th>0</th>\n",
       "      <td>670772142</td>\n",
       "      <td>4</td>\n",
       "      <td>2019-4</td>\n",
       "      <td>Australia</td>\n",
       "      <td>If you've ever been to Disneyland anywhere you...</td>\n",
       "      <td>Disneyland_HongKong</td>\n",
       "    </tr>\n",
       "    <tr>\n",
       "      <th>1</th>\n",
       "      <td>670682799</td>\n",
       "      <td>4</td>\n",
       "      <td>2019-5</td>\n",
       "      <td>Philippines</td>\n",
       "      <td>Its been a while since d last time we visit HK...</td>\n",
       "      <td>Disneyland_HongKong</td>\n",
       "    </tr>\n",
       "  </tbody>\n",
       "</table>\n",
       "</div>"
      ],
      "text/plain": [
       "   Review_ID  Rating Year_Month Reviewer_Location  \\\n",
       "0  670772142       4     2019-4         Australia   \n",
       "1  670682799       4     2019-5       Philippines   \n",
       "\n",
       "                                         Review_Text               Branch  \n",
       "0  If you've ever been to Disneyland anywhere you...  Disneyland_HongKong  \n",
       "1  Its been a while since d last time we visit HK...  Disneyland_HongKong  "
      ]
     },
     "execution_count": 5,
     "metadata": {},
     "output_type": "execute_result"
    }
   ],
   "source": [
    "# Import file\n",
    "df = pd.read_csv('disneyland_reviews.csv', encoding='latin-1')\n",
    "df.head(2)"
   ]
  },
  {
   "cell_type": "markdown",
   "id": "af2565c6",
   "metadata": {},
   "source": [
    "# EDA"
   ]
  },
  {
   "cell_type": "code",
   "execution_count": 6,
   "id": "1aec42a1",
   "metadata": {},
   "outputs": [
    {
     "data": {
      "text/plain": [
       "(42656, 6)"
      ]
     },
     "execution_count": 6,
     "metadata": {},
     "output_type": "execute_result"
    }
   ],
   "source": [
    "df.shape"
   ]
  },
  {
   "cell_type": "code",
   "execution_count": 7,
   "id": "e926e2cc",
   "metadata": {},
   "outputs": [
    {
     "data": {
      "text/html": [
       "<div>\n",
       "<style scoped>\n",
       "    .dataframe tbody tr th:only-of-type {\n",
       "        vertical-align: middle;\n",
       "    }\n",
       "\n",
       "    .dataframe tbody tr th {\n",
       "        vertical-align: top;\n",
       "    }\n",
       "\n",
       "    .dataframe thead th {\n",
       "        text-align: right;\n",
       "    }\n",
       "</style>\n",
       "<table border=\"1\" class=\"dataframe\">\n",
       "  <thead>\n",
       "    <tr style=\"text-align: right;\">\n",
       "      <th></th>\n",
       "      <th>ID</th>\n",
       "      <th>Rating</th>\n",
       "      <th>Date</th>\n",
       "      <th>Reviewer_Location</th>\n",
       "      <th>Reviews</th>\n",
       "      <th>Branch</th>\n",
       "    </tr>\n",
       "  </thead>\n",
       "  <tbody>\n",
       "    <tr>\n",
       "      <th>0</th>\n",
       "      <td>670772142</td>\n",
       "      <td>4</td>\n",
       "      <td>2019-4</td>\n",
       "      <td>Australia</td>\n",
       "      <td>If you've ever been to Disneyland anywhere you...</td>\n",
       "      <td>Disneyland_HongKong</td>\n",
       "    </tr>\n",
       "    <tr>\n",
       "      <th>1</th>\n",
       "      <td>670682799</td>\n",
       "      <td>4</td>\n",
       "      <td>2019-5</td>\n",
       "      <td>Philippines</td>\n",
       "      <td>Its been a while since d last time we visit HK...</td>\n",
       "      <td>Disneyland_HongKong</td>\n",
       "    </tr>\n",
       "  </tbody>\n",
       "</table>\n",
       "</div>"
      ],
      "text/plain": [
       "          ID  Rating    Date Reviewer_Location  \\\n",
       "0  670772142       4  2019-4         Australia   \n",
       "1  670682799       4  2019-5       Philippines   \n",
       "\n",
       "                                             Reviews               Branch  \n",
       "0  If you've ever been to Disneyland anywhere you...  Disneyland_HongKong  \n",
       "1  Its been a while since d last time we visit HK...  Disneyland_HongKong  "
      ]
     },
     "execution_count": 7,
     "metadata": {},
     "output_type": "execute_result"
    }
   ],
   "source": [
    "# Rename columns for easier interpretability\n",
    "df.rename(columns={'Year_Month':'Date', 'Review_ID': 'ID', \n",
    "                   'Review_Text': 'Reviews'}, inplace=True)\n",
    "df.head(2)"
   ]
  },
  {
   "cell_type": "code",
   "execution_count": 8,
   "id": "b54cfc44",
   "metadata": {},
   "outputs": [
    {
     "data": {
      "text/html": [
       "<div>\n",
       "<style scoped>\n",
       "    .dataframe tbody tr th:only-of-type {\n",
       "        vertical-align: middle;\n",
       "    }\n",
       "\n",
       "    .dataframe tbody tr th {\n",
       "        vertical-align: top;\n",
       "    }\n",
       "\n",
       "    .dataframe thead th {\n",
       "        text-align: right;\n",
       "    }\n",
       "</style>\n",
       "<table border=\"1\" class=\"dataframe\">\n",
       "  <thead>\n",
       "    <tr style=\"text-align: right;\">\n",
       "      <th></th>\n",
       "      <th>ID</th>\n",
       "      <th>Rating</th>\n",
       "      <th>Date</th>\n",
       "      <th>Reviewer_Location</th>\n",
       "      <th>Reviews</th>\n",
       "      <th>Branch</th>\n",
       "    </tr>\n",
       "  </thead>\n",
       "  <tbody>\n",
       "    <tr>\n",
       "      <th>0</th>\n",
       "      <td>670772142</td>\n",
       "      <td>4</td>\n",
       "      <td>2019-4</td>\n",
       "      <td>Australia</td>\n",
       "      <td>If you've ever been to Disneyland anywhere you...</td>\n",
       "      <td>HongKong</td>\n",
       "    </tr>\n",
       "    <tr>\n",
       "      <th>1</th>\n",
       "      <td>670682799</td>\n",
       "      <td>4</td>\n",
       "      <td>2019-5</td>\n",
       "      <td>Philippines</td>\n",
       "      <td>Its been a while since d last time we visit HK...</td>\n",
       "      <td>HongKong</td>\n",
       "    </tr>\n",
       "  </tbody>\n",
       "</table>\n",
       "</div>"
      ],
      "text/plain": [
       "          ID  Rating    Date Reviewer_Location  \\\n",
       "0  670772142       4  2019-4         Australia   \n",
       "1  670682799       4  2019-5       Philippines   \n",
       "\n",
       "                                             Reviews    Branch  \n",
       "0  If you've ever been to Disneyland anywhere you...  HongKong  \n",
       "1  Its been a while since d last time we visit HK...  HongKong  "
      ]
     },
     "execution_count": 8,
     "metadata": {},
     "output_type": "execute_result"
    }
   ],
   "source": [
    "# Clean up branch names - remove \"Disneyland_\"\n",
    "df['Branch']=df['Branch'].apply(lambda x: x.split('Disneyland_')[1])\n",
    "df.head(2)"
   ]
  },
  {
   "cell_type": "code",
   "execution_count": 9,
   "id": "c5e0cefc",
   "metadata": {},
   "outputs": [
    {
     "name": "stdout",
     "output_type": "stream",
     "text": [
      "<class 'pandas.core.frame.DataFrame'>\n",
      "RangeIndex: 42656 entries, 0 to 42655\n",
      "Data columns (total 6 columns):\n",
      " #   Column             Non-Null Count  Dtype \n",
      "---  ------             --------------  ----- \n",
      " 0   ID                 42656 non-null  int64 \n",
      " 1   Rating             42656 non-null  int64 \n",
      " 2   Date               42656 non-null  object\n",
      " 3   Reviewer_Location  42656 non-null  object\n",
      " 4   Reviews            42656 non-null  object\n",
      " 5   Branch             42656 non-null  object\n",
      "dtypes: int64(2), object(4)\n",
      "memory usage: 2.0+ MB\n"
     ]
    }
   ],
   "source": [
    "# Note that the Date column is a string object, not datetime\n",
    "df.info()"
   ]
  },
  {
   "cell_type": "code",
   "execution_count": 10,
   "id": "58cac9b0",
   "metadata": {},
   "outputs": [
    {
     "data": {
      "text/plain": [
       "missing    2613\n",
       "2015-8      786\n",
       "2015-7      759\n",
       "2015-12     701\n",
       "2015-6      692\n",
       "           ... \n",
       "2010-8        7\n",
       "2010-5        4\n",
       "2019-5        2\n",
       "2010-3        2\n",
       "2010-4        1\n",
       "Name: Date, Length: 112, dtype: int64"
      ]
     },
     "execution_count": 10,
     "metadata": {},
     "output_type": "execute_result"
    }
   ],
   "source": [
    "# Check the 'Date' column\n",
    "dates = df.Date\n",
    "dates.value_counts()"
   ]
  },
  {
   "cell_type": "markdown",
   "id": "187f5422",
   "metadata": {},
   "source": [
    "**Although there are no null values, there are dates marked as \"missing\".  There are over 2000 missing date values.**"
   ]
  },
  {
   "cell_type": "code",
   "execution_count": 13,
   "id": "a30f654a",
   "metadata": {},
   "outputs": [
    {
     "data": {
      "text/html": [
       "<div>\n",
       "<style scoped>\n",
       "    .dataframe tbody tr th:only-of-type {\n",
       "        vertical-align: middle;\n",
       "    }\n",
       "\n",
       "    .dataframe tbody tr th {\n",
       "        vertical-align: top;\n",
       "    }\n",
       "\n",
       "    .dataframe thead th {\n",
       "        text-align: right;\n",
       "    }\n",
       "</style>\n",
       "<table border=\"1\" class=\"dataframe\">\n",
       "  <thead>\n",
       "    <tr style=\"text-align: right;\">\n",
       "      <th></th>\n",
       "      <th>ID</th>\n",
       "      <th>Rating</th>\n",
       "    </tr>\n",
       "  </thead>\n",
       "  <tbody>\n",
       "    <tr>\n",
       "      <th>count</th>\n",
       "      <td>4.265600e+04</td>\n",
       "      <td>42656.000000</td>\n",
       "    </tr>\n",
       "    <tr>\n",
       "      <th>mean</th>\n",
       "      <td>3.188553e+08</td>\n",
       "      <td>4.217695</td>\n",
       "    </tr>\n",
       "    <tr>\n",
       "      <th>std</th>\n",
       "      <td>1.657092e+08</td>\n",
       "      <td>1.063371</td>\n",
       "    </tr>\n",
       "    <tr>\n",
       "      <th>min</th>\n",
       "      <td>1.398724e+06</td>\n",
       "      <td>1.000000</td>\n",
       "    </tr>\n",
       "    <tr>\n",
       "      <th>25%</th>\n",
       "      <td>1.743274e+08</td>\n",
       "      <td>4.000000</td>\n",
       "    </tr>\n",
       "    <tr>\n",
       "      <th>50%</th>\n",
       "      <td>2.907583e+08</td>\n",
       "      <td>5.000000</td>\n",
       "    </tr>\n",
       "    <tr>\n",
       "      <th>75%</th>\n",
       "      <td>4.489579e+08</td>\n",
       "      <td>5.000000</td>\n",
       "    </tr>\n",
       "    <tr>\n",
       "      <th>max</th>\n",
       "      <td>6.708014e+08</td>\n",
       "      <td>5.000000</td>\n",
       "    </tr>\n",
       "  </tbody>\n",
       "</table>\n",
       "</div>"
      ],
      "text/plain": [
       "                 ID        Rating\n",
       "count  4.265600e+04  42656.000000\n",
       "mean   3.188553e+08      4.217695\n",
       "std    1.657092e+08      1.063371\n",
       "min    1.398724e+06      1.000000\n",
       "25%    1.743274e+08      4.000000\n",
       "50%    2.907583e+08      5.000000\n",
       "75%    4.489579e+08      5.000000\n",
       "max    6.708014e+08      5.000000"
      ]
     },
     "execution_count": 13,
     "metadata": {},
     "output_type": "execute_result"
    }
   ],
   "source": [
    "# Ratings range from 1 to 5. \n",
    "# The mean rating is 4.2, which means that there are many more 4 and 5 reviews than 1, 2, 3.\n",
    "# We can see that only 25% of the ratings are at or below 4\n",
    "df.describe()"
   ]
  },
  {
   "cell_type": "code",
   "execution_count": 14,
   "id": "c6e66985",
   "metadata": {},
   "outputs": [],
   "source": [
    "# # Add 'Sentiment' column, set >3 stars to Positive, <3 to Negative, all others to Neutral\n",
    "# df['Sentiment'] = [\"Positive\" if x >3 else \"Negative\" if x <3 else \"Neutral\" for x in df.Rating]\n",
    "\n",
    "# df.head()"
   ]
  },
  {
   "cell_type": "code",
   "execution_count": 15,
   "id": "fa8a3151",
   "metadata": {},
   "outputs": [],
   "source": [
    "# Remove all 3-star reviews to avoid neutral statements\n",
    "df = df[df.Rating!=3]"
   ]
  },
  {
   "cell_type": "code",
   "execution_count": 16,
   "id": "85c2edee",
   "metadata": {},
   "outputs": [
    {
     "data": {
      "text/html": [
       "<div>\n",
       "<style scoped>\n",
       "    .dataframe tbody tr th:only-of-type {\n",
       "        vertical-align: middle;\n",
       "    }\n",
       "\n",
       "    .dataframe tbody tr th {\n",
       "        vertical-align: top;\n",
       "    }\n",
       "\n",
       "    .dataframe thead th {\n",
       "        text-align: right;\n",
       "    }\n",
       "</style>\n",
       "<table border=\"1\" class=\"dataframe\">\n",
       "  <thead>\n",
       "    <tr style=\"text-align: right;\">\n",
       "      <th></th>\n",
       "      <th>ID</th>\n",
       "      <th>Rating</th>\n",
       "      <th>Date</th>\n",
       "      <th>Reviewer_Location</th>\n",
       "      <th>Reviews</th>\n",
       "      <th>Branch</th>\n",
       "      <th>Rating_Type</th>\n",
       "    </tr>\n",
       "  </thead>\n",
       "  <tbody>\n",
       "    <tr>\n",
       "      <th>40773</th>\n",
       "      <td>137516438</td>\n",
       "      <td>2</td>\n",
       "      <td>2012-8</td>\n",
       "      <td>Guernsey</td>\n",
       "      <td>What a rip off! And the queues   my goodness. ...</td>\n",
       "      <td>Paris</td>\n",
       "      <td>Negative</td>\n",
       "    </tr>\n",
       "    <tr>\n",
       "      <th>9284</th>\n",
       "      <td>119777688</td>\n",
       "      <td>4</td>\n",
       "      <td>2011-10</td>\n",
       "      <td>Philippines</td>\n",
       "      <td>Its still Disneyland even if its smaller.  Gre...</td>\n",
       "      <td>HongKong</td>\n",
       "      <td>Positive</td>\n",
       "    </tr>\n",
       "  </tbody>\n",
       "</table>\n",
       "</div>"
      ],
      "text/plain": [
       "              ID  Rating     Date Reviewer_Location  \\\n",
       "40773  137516438       2   2012-8          Guernsey   \n",
       "9284   119777688       4  2011-10       Philippines   \n",
       "\n",
       "                                                 Reviews    Branch Rating_Type  \n",
       "40773  What a rip off! And the queues   my goodness. ...     Paris    Negative  \n",
       "9284   Its still Disneyland even if its smaller.  Gre...  HongKong    Positive  "
      ]
     },
     "execution_count": 16,
     "metadata": {},
     "output_type": "execute_result"
    }
   ],
   "source": [
    "# Add 'Rating_Type' column, set >=4 stars to Positive, <4 to Negative\n",
    "df['Rating_Type'] = ['Positive' if x >=4 else 'Negative' for x in df.Rating]\n",
    "\n",
    "df.sample(2)"
   ]
  },
  {
   "cell_type": "code",
   "execution_count": 17,
   "id": "20acdf51",
   "metadata": {},
   "outputs": [
    {
     "data": {
      "text/plain": [
       "Positive    0.903428\n",
       "Negative    0.096572\n",
       "Name: Rating_Type, dtype: float64"
      ]
     },
     "execution_count": 17,
     "metadata": {},
     "output_type": "execute_result"
    }
   ],
   "source": [
    "# ~90% of reviews are Positive and ~10% are Negative\n",
    "df.Rating_Type.value_counts(normalize=True)"
   ]
  },
  {
   "cell_type": "code",
   "execution_count": 18,
   "id": "0e8b326f",
   "metadata": {},
   "outputs": [
    {
     "data": {
      "text/plain": [
       "5    23146\n",
       "4    10775\n",
       "2     2127\n",
       "1     1499\n",
       "Name: Rating, dtype: int64"
      ]
     },
     "execution_count": 18,
     "metadata": {},
     "output_type": "execute_result"
    }
   ],
   "source": [
    "# Distribution of ratings\n",
    "df.Rating.value_counts()"
   ]
  },
  {
   "cell_type": "code",
   "execution_count": 80,
   "id": "4a4329b9",
   "metadata": {},
   "outputs": [
    {
     "data": {
      "text/plain": [
       "Text(40.00611215277779, 0.5, 'Number of Reviews')"
      ]
     },
     "execution_count": 80,
     "metadata": {},
     "output_type": "execute_result"
    },
    {
     "data": {
      "image/png": "[encoded data removed]",
      "text/plain": [
       "<Figure size 451.475x360 with 1 Axes>"
      ]
     },
     "metadata": {},
     "output_type": "display_data"
    }
   ],
   "source": [
    "# Countplot\n",
    "# Distribution of ratings across parks\n",
    "total_reviews = df.groupby(by=['Branch', 'Rating'])['ID'].count().reset_index()\n",
    "\n",
    "sns.catplot(x='Rating', y='ID', hue='Branch', data=total_reviews, kind='bar')\n",
    "\n",
    "plt.title(\"Distribution of Ratings Across Parks\", fontsize=15)\n",
    "plt.ylabel(\"Number of Reviews\")"
   ]
  },
  {
   "cell_type": "markdown",
   "id": "d62c2422",
   "metadata": {},
   "source": [
    "There are many more positive reviews than negative.  \n",
    "Remember that we also removed reviews with Rating=3 to remove neutral ratings/sentiment.  \n",
    "Imbalanced toward California Park, which has significantly more reviews than the other parks."
   ]
  },
  {
   "cell_type": "code",
   "execution_count": 101,
   "id": "68e2876d",
   "metadata": {},
   "outputs": [
    {
     "name": "stdout",
     "output_type": "stream",
     "text": [
      "The average rating for Disneyland - California is:  4.536883629191322\n",
      "The average rating for Disneyland - Hong Kong is:  4.403270745003028\n",
      "The average rating for Disneyland - Paris is:  4.1332813717848795\n"
     ]
    }
   ],
   "source": [
    "# Average ratings for each park (minus the 3-star reviews)\n",
    "total_calif = int(df.loc[df['Branch'].isin(['California']), 'Rating'].sum())/int(df.loc[df['Branch'].isin(['California']), 'ID'].count())\n",
    "total_hongk = int(df.loc[df['Branch'].isin(['HongKong']), 'Rating'].sum())/int(df.loc[df['Branch'].isin(['HongKong']), 'ID'].count())\n",
    "total_paris = int(df.loc[df['Branch'].isin(['Paris']), 'Rating'].sum())/int(df.loc[df['Branch'].isin(['Paris']), 'ID'].count())\n",
    "\n",
    "print(\"The average rating for Disneyland - California is: \", total_calif)\n",
    "print(\"The average rating for Disneyland - Hong Kong is: \", total_hongk)\n",
    "print(\"The average rating for Disneyland - Paris is: \", total_paris)"
   ]
  },
  {
   "cell_type": "markdown",
   "id": "ba85c5f7",
   "metadata": {},
   "source": [
    "Disney - California has the highest average rating.  \n",
    "Disney - Paris has the lowest average rating."
   ]
  },
  {
   "cell_type": "markdown",
   "id": "5c12321e",
   "metadata": {},
   "source": [
    "### Save Files"
   ]
  },
  {
   "cell_type": "code",
   "execution_count": 126,
   "id": "98520576",
   "metadata": {},
   "outputs": [],
   "source": [
    "df.to_pickle('df_sentiment_pkl')\n",
    "df.to_csv('df_sentiment.gz', compression='gzip', encoding='utf-8', index=False)"
   ]
  },
  {
   "cell_type": "markdown",
   "id": "5cd42c46",
   "metadata": {},
   "source": [
    "# Sentiment Analysis"
   ]
  },
  {
   "cell_type": "code",
   "execution_count": 62,
   "id": "bae4366c",
   "metadata": {},
   "outputs": [
    {
     "data": {
      "text/plain": [
       "0        If you've ever been to Disneyland anywhere you...\n",
       "1        Its been a while since d last time we visit HK...\n",
       "2        Thanks God it wasn   t too hot or too humid wh...\n",
       "3        HK Disneyland is a great compact park. Unfortu...\n",
       "4        the location is not in the city, took around 1...\n",
       "                               ...                        \n",
       "42651    i went to disneyland paris in july 03 and thou...\n",
       "42652    2 adults and 1 child of 11 visited Disneyland ...\n",
       "42653    My eleven year old daughter and myself went to...\n",
       "42654    This hotel, part of the Disneyland Paris compl...\n",
       "42655    I went to the Disneyparis resort, in 1996, wit...\n",
       "Name: Reviews, Length: 37547, dtype: object"
      ]
     },
     "execution_count": 62,
     "metadata": {},
     "output_type": "execute_result"
    }
   ],
   "source": [
    "# Assign the text reviews into a corpus of documents\n",
    "corpus = df.Reviews\n",
    "corpus"
   ]
  },
  {
   "cell_type": "markdown",
   "id": "87a38122",
   "metadata": {},
   "source": [
    "## VADER\n",
    "**Compound score normalized between -1 (most extreme negative) and +1 (most extreme positive)**"
   ]
  },
  {
   "cell_type": "code",
   "execution_count": 127,
   "id": "49dc25ae",
   "metadata": {},
   "outputs": [
    {
     "data": {
      "text/html": [
       "<div>\n",
       "<style scoped>\n",
       "    .dataframe tbody tr th:only-of-type {\n",
       "        vertical-align: middle;\n",
       "    }\n",
       "\n",
       "    .dataframe tbody tr th {\n",
       "        vertical-align: top;\n",
       "    }\n",
       "\n",
       "    .dataframe thead th {\n",
       "        text-align: right;\n",
       "    }\n",
       "</style>\n",
       "<table border=\"1\" class=\"dataframe\">\n",
       "  <thead>\n",
       "    <tr style=\"text-align: right;\">\n",
       "      <th></th>\n",
       "      <th>ID</th>\n",
       "      <th>Rating</th>\n",
       "      <th>Date</th>\n",
       "      <th>Reviewer_Location</th>\n",
       "      <th>Reviews</th>\n",
       "      <th>Branch</th>\n",
       "      <th>Rating_Type</th>\n",
       "      <th>Sentiment_Score</th>\n",
       "    </tr>\n",
       "  </thead>\n",
       "  <tbody>\n",
       "    <tr>\n",
       "      <th>0</th>\n",
       "      <td>670772142</td>\n",
       "      <td>4</td>\n",
       "      <td>2019-4</td>\n",
       "      <td>Australia</td>\n",
       "      <td>If you've ever been to Disneyland anywhere you'll find Disneyland Hong Kong very similar in the layout when you walk into main street! It has a very familiar feel. One of the rides  its a Small World  is absolutely fabulous and worth doing. The day we visited was fairly hot and relatively busy but the queues moved fairly well.</td>\n",
       "      <td>HongKong</td>\n",
       "      <td>Positive</td>\n",
       "      <td>0.7069</td>\n",
       "    </tr>\n",
       "    <tr>\n",
       "      <th>1</th>\n",
       "      <td>670682799</td>\n",
       "      <td>4</td>\n",
       "      <td>2019-5</td>\n",
       "      <td>Philippines</td>\n",
       "      <td>Its been a while since d last time we visit HK Disneyland .. Yet, this time we only stay in Tomorrowland .. AKA Marvel land!Now they have Iron Man Experience n d Newly open Ant Man n d Wasp!!Ironman .. Great feature n so Exciting, especially d whole scenery of HK (HK central area to Kowloon)!Antman .. Changed by previous Buzz lightyear! More or less d same, but I'm expecting to have something most!!However, my boys like it!!Space Mountain .. Turns into Star Wars!! This 1 is Great!!!For cast members (staffs) .. Felt bit MINUS point from before!!! Just dun feel like its a Disney brand!! Seems more local like Ocean Park or even worst!!They got no SMILING face, but just wanna u to enter n attraction n leave!!Hello this is supposed to be Happiest Place on Earth brand!! But, just really Dont feel it!!Bakery in Main Street now have more attractive delicacies n Disney theme sweets .. These are Good Points!!Last, they also have Starbucks now inside the theme park!!</td>\n",
       "      <td>HongKong</td>\n",
       "      <td>Positive</td>\n",
       "      <td>0.9853</td>\n",
       "    </tr>\n",
       "    <tr>\n",
       "      <th>2</th>\n",
       "      <td>670623270</td>\n",
       "      <td>4</td>\n",
       "      <td>2019-4</td>\n",
       "      <td>United Arab Emirates</td>\n",
       "      <td>Thanks God it wasn   t too hot or too humid when I was visiting the park   otherwise it would be a big issue (there is not a lot of shade).I have arrived around 10:30am and left at 6pm. Unfortunately I didn   t last until evening parade, but 8.5 hours was too much for me.There is plenty to do and everyone will find something interesting for themselves to enjoy.It wasn   t extremely busy and the longest time I had to queue for certain attractions was 45 minutes (which is really not that bad).Although I had an amazing time, I felt a bit underwhelmed with choice of rides and attractions. The park itself is quite small (I was really expecting something grand   even the main castle which was closed by the way was quite small).The food options are good, few coffee shops (including Starbucks) and plenty of gift shops. There was no issue with toilets as they are everywhere.All together it was a great day out and I really enjoyed it.</td>\n",
       "      <td>HongKong</td>\n",
       "      <td>Positive</td>\n",
       "      <td>0.9920</td>\n",
       "    </tr>\n",
       "  </tbody>\n",
       "</table>\n",
       "</div>"
      ],
      "text/plain": [
       "          ID  Rating    Date     Reviewer_Location  \\\n",
       "0  670772142       4  2019-4             Australia   \n",
       "1  670682799       4  2019-5           Philippines   \n",
       "2  670623270       4  2019-4  United Arab Emirates   \n",
       "\n",
       "                                                                                                                                                                                                                                                                                                                                                                                                                                                                                                                                                                                                                                                                                                                                                                                                                                                                                                                                                                                                      Reviews  \\\n",
       "0                                                                                                                                                                                                                                                                                                                                                                                                                                                                                                                                                                                                                                                                   If you've ever been to Disneyland anywhere you'll find Disneyland Hong Kong very similar in the layout when you walk into main street! It has a very familiar feel. One of the rides  its a Small World  is absolutely fabulous and worth doing. The day we visited was fairly hot and relatively busy but the queues moved fairly well.    \n",
       "1  Its been a while since d last time we visit HK Disneyland .. Yet, this time we only stay in Tomorrowland .. AKA Marvel land!Now they have Iron Man Experience n d Newly open Ant Man n d Wasp!!Ironman .. Great feature n so Exciting, especially d whole scenery of HK (HK central area to Kowloon)!Antman .. Changed by previous Buzz lightyear! More or less d same, but I'm expecting to have something most!!However, my boys like it!!Space Mountain .. Turns into Star Wars!! This 1 is Great!!!For cast members (staffs) .. Felt bit MINUS point from before!!! Just dun feel like its a Disney brand!! Seems more local like Ocean Park or even worst!!They got no SMILING face, but just wanna u to enter n attraction n leave!!Hello this is supposed to be Happiest Place on Earth brand!! But, just really Dont feel it!!Bakery in Main Street now have more attractive delicacies n Disney theme sweets .. These are Good Points!!Last, they also have Starbucks now inside the theme park!!   \n",
       "2                                  Thanks God it wasn   t too hot or too humid when I was visiting the park   otherwise it would be a big issue (there is not a lot of shade).I have arrived around 10:30am and left at 6pm. Unfortunately I didn   t last until evening parade, but 8.5 hours was too much for me.There is plenty to do and everyone will find something interesting for themselves to enjoy.It wasn   t extremely busy and the longest time I had to queue for certain attractions was 45 minutes (which is really not that bad).Although I had an amazing time, I felt a bit underwhelmed with choice of rides and attractions. The park itself is quite small (I was really expecting something grand   even the main castle which was closed by the way was quite small).The food options are good, few coffee shops (including Starbucks) and plenty of gift shops. There was no issue with toilets as they are everywhere.All together it was a great day out and I really enjoyed it.   \n",
       "\n",
       "     Branch Rating_Type  Sentiment_Score  \n",
       "0  HongKong    Positive           0.7069  \n",
       "1  HongKong    Positive           0.9853  \n",
       "2  HongKong    Positive           0.9920  "
      ]
     },
     "execution_count": 127,
     "metadata": {},
     "output_type": "execute_result"
    }
   ],
   "source": [
    "# Set the display constraints to be able to read entire reviews\n",
    "pd.set_option('display.max_colwidth', None)\n",
    "\n",
    "# Make a copy of the dataframe\n",
    "df_vader = df.copy()\n",
    "\n",
    "# Analyze with VADER\n",
    "v_analyzer = SentimentIntensityAnalyzer()\n",
    "\n",
    "# Apply sentiment scorer to the entire column of review data\n",
    "df_vader['Sentiment_Score'] = df_vader.Reviews.map(v_analyzer.polarity_scores).map(lambda x: x.get('compound'))\n",
    "df_vader.head(3)"
   ]
  },
  {
   "cell_type": "code",
   "execution_count": null,
   "id": "46421165",
   "metadata": {},
   "outputs": [],
   "source": [
    "# # Set the display constraints to be able to read entire reviews\n",
    "# pd.set_option('display.max_colwidth', None)\n",
    "\n",
    "# # Review with highest sentiment score\n",
    "# highest_sentiment = df_vader.iloc[df_vader.Sentiment_Score.idxmax()]\n",
    "# highest_sentiment"
   ]
  },
  {
   "cell_type": "code",
   "execution_count": null,
   "id": "7ebd4333",
   "metadata": {},
   "outputs": [],
   "source": [
    "# # Review the lowest sentiment score\n",
    "# lowest_sentiment = df_vader.iloc[df_vader.Sentiment_Score.idxmin()]\n",
    "# lowest_sentiment"
   ]
  },
  {
   "cell_type": "code",
   "execution_count": null,
   "id": "29f06f54",
   "metadata": {},
   "outputs": [],
   "source": [
    "# df_vader.Sentiment_Score.idxmin()"
   ]
  },
  {
   "cell_type": "code",
   "execution_count": 129,
   "id": "6ac01184",
   "metadata": {},
   "outputs": [
    {
     "data": {
      "text/html": [
       "<div>\n",
       "<style scoped>\n",
       "    .dataframe tbody tr th:only-of-type {\n",
       "        vertical-align: middle;\n",
       "    }\n",
       "\n",
       "    .dataframe tbody tr th {\n",
       "        vertical-align: top;\n",
       "    }\n",
       "\n",
       "    .dataframe thead th {\n",
       "        text-align: right;\n",
       "    }\n",
       "</style>\n",
       "<table border=\"1\" class=\"dataframe\">\n",
       "  <thead>\n",
       "    <tr style=\"text-align: right;\">\n",
       "      <th></th>\n",
       "      <th>ID</th>\n",
       "      <th>Rating</th>\n",
       "      <th>Date</th>\n",
       "      <th>Reviewer_Location</th>\n",
       "      <th>Reviews</th>\n",
       "      <th>Branch</th>\n",
       "      <th>Rating_Type</th>\n",
       "      <th>Sentiment_Score</th>\n",
       "    </tr>\n",
       "  </thead>\n",
       "  <tbody>\n",
       "    <tr>\n",
       "      <th>30544</th>\n",
       "      <td>573139508</td>\n",
       "      <td>5</td>\n",
       "      <td>2018-4</td>\n",
       "      <td>United Kingdom</td>\n",
       "      <td>Hi allHaving just returned from DLP I thought it might be useful to write a short idiots guide with some of the info I wish I'd known before I went.Firstly   getting there. We drove (going through the chunnel) so if you're flying we can't help you with this bit. Our Satnav got us there no problem and most people will have some form of access to a satnav these days. There are signs to DLP but they are few and far between so don't rely on them to guide you there. There is also a very good guide that we used to get us there. It's here under post number 9: https:  www.tripadvisor.co.uk ShowTopic g226865 i2224 k5776128 Driving to DLP and advise please Marne la Vallee Seine et Marne Ile de France.htmlBe aware of the advice about 3 4 of the way down where you need to be in the fast lane to get to the right road   this is easy to miss and the French tend to drive nose to tail so changing lanes can be traumatic! There are guides to avoiding the toll on the A1 but, given what you're spending on the rest of the trip, I'd say it's not worth the hassle   it cost us   22 each way (yep, it's expensive).It goes without saying that you need the extra kit to drive on the French roads but these are readily available at Halfords and other car placesDAVEY CROCKETT RANCHWe stayed at the Davey Crockett ranch which, for us, turned out to be an excellent choice. I'll go over why that was in a moment.The ranch itself was perfect for our needs (be aware they wont let you in until 4pm on the day of arrival). We're 2 adults with a 6 and 9 year old. There were 2 separate rooms with an internal area which had a freezer, fridge, dishwasher, tv but no oven.The reason we went with Davey Crockett was the self catering option. We researched the meal plans beforehand and we thought they were really expensive   we also preferred to cook our own food as lots of the food on site was 'junk' food (chips burgers etc). Not saying that we don't like that but it's good to have a real meal in the day as well. The park states that there's to be no 'pique nique' in the grounds but everyone does it and they don't seem to stop anyone. This is a MAJOR benefit as the prices for food within the park are exorbitant (about   8 for a hotdog and chips etc). This may sound like we're being tight and grumpy but trust me   once you're in the queue for that   8 burger you'll be wincing too   we were very happy with our baguettes which we took with us each morning. Getting food: If you have room I'd recommend taking a lot of sundries with you if you're staying in Davey Crockett. Although reception gives you a guide to finding the big supermarket (Auchan) actually finding it for the first time (before you get familiar with the local roads) can be quite stressful. Again, your Satnav may guide you there no problem but it's worth having a meal ready to go on the first day to avoid trauma. Auchan itself is very well provisioned and has everything you'd need for your trip. We stocked up for the week in 1 shop and never had to go back.But what about the bread? Well there's the 'Park Natural' which is open to Davey Crockett ranch users whilst the pool is being renovated and that contains a great Boulangerie where we picked up our bread for the remainder of the trip. The advantage of this was it was just around the corner from the ranches and therefore much easier to find that Auchan.DISNEY HOTEL OR NOT DISNEY HOTELOK, so we can't comment on the other hotels and you know how we felt about our own. The main and overwhelming reason why you should go for a Disney hotel is the access to magic hour which is super super important to getting the most out of the parks. Basically you get access to the park from 08:30 when the general public get access from 10:00. This time is utterly precious for getting access to characters and the popular rides. If you're smart you can whizz through a lot of the rides that you'd spend hours queueing for later on within this time. Also, your kids are going to want to have their autograph books signed and this is by far the best time to do this (queues for the popular characters can easily be 2 hours plus once the park opens to the general public).AUTOGRAPH HUNTINGWhilst I'm on the subject   if you're looking for one of the princess autographs here's what you should do. Plan to be one of the first at the gate at 08:30 (which probably means getting there at 08:15 or so). Know where the princess meeting booth is (so you might want to do this on the first day and actually get the autograph on the second). Once the gate is opened leg it as fast as you can to the booth (you wont be the only one!!) and get as far up the queue as you can. We didn't do this ('cos we didn't know) and ended up spending from 08:30 to 11:00 in the queue (and you don't get to know which princess it's going to be!). There's precious little to see whilst you're queueing so make sure you have something to keep your little ones amused!There's also a trick to seeing Mickey. He's got his own special house in the main park where you can greet him which usually has brutal queues but he also appears in the Studio park in the morning (next to Aladdin's carpet ride). We only had to wait 30 mins to see him here. So if you manage to time it right this can be a great time saver.THE CASTLE LIGHT UP EVENING SHOWDo this once. Seriously. It is worth seeing but the crowds are huge and getting out afterwards takes forever. Make sure you have good hold on young children and have a contingency plan for getting separated (even for them   the main bandstand for example). We did it mid week, I'd hate to think what it was like on a Saturday. Also, don't worry so much about getting prime position. We were somewhat to the side but still got to see everything and the castle was spectacular.THE RIDESThis is something I wish we'd known before we got there as, if your time is limited, there's definitely some which you should prioritise. We were there for 4 days and it was only by day 4 that we had fully covered both parks.Here's a quick guide to some of the rides and what we thought of them (this is clearly subjective but I'll try to be as open as possible)I'll also only name rides you can't see inside.HYPERSPACE MOUNTAINThis is a full on rollercoaster in the dark with flashing light effects. The height limit is 1.2m but I'd urge caution in letting young children onto this (my daughter is just under 1.2m and I'm very glad she wasn't allowed on   she'd have been terrified). It's easily the most intense ride in the park so if you're looking for thrills   that's the one to go for.SPACE TOURSThis is a great family ride. Basically it's a simulator but it's very well done and suitable for all ages   my 6 year old loved it and she's never seen Star Wars!BUZZ LIGHYEARBasically you're on a track and you shoot targets using a light gun. It was alright but we went on when there was no queue and we didn't go on it again for the remainder of our stay.IT'S A SMALL WORLD AFTER ALLA boat ride through the countries of the world with dolls decked out in national gear. My kids loved it and it's fun for the parents to see the rather patronising view of each country. Its queue also moves really fast so it's worth doing for that alone. As an aside if you've ever played Portal 2 look up at the ceiling whilst you're on the ride   you'll get what I mean...PETER PANA great ride, well worth the queue time. You fly over London and Neverland. It's one of those rides that does a great job of making you feel you're part of a story   especially when you're flying through the stars.PINOCCHIO and SNOW WHITEBasically train rides with models at the side telling the story of the character. Could be scary for very young children. Not worth a huge wait.PIRATES OF THE CARIBBEANArgh! (not in a piratey way). The queue for this was an abomination and is longer than the ride itself. Only go on this one at off peak times. The ride itself is amazingly well done and keeps your attention but we only went on it once as we just couldn't face that queue again! It's suitable for everyone.INDIANA JONESA great fun rollercoaster with a 360 loop. This was one of my eldest daughter's (9) favourites. It's exciting but not terrifying. Again, this is one of the ones you can get onto multiple times if you go off peak.BIG THUNDER MOUNTAINThis was our family favourite rollercoaster. It has a brilliant mix of thrills and character (the ending was exhilarating each time even though you knew it was coming). This was my youngest daughter's (6) favourite ride in the park. The queues can be big so it's worth fast passing this one.STUDIOS PARK RIDESThis park shuts at 7 so you should plan for this when considering what rides to go on. If you time it right you can get on a lot of rides as the park tends to empty towards 7 as people migrate into the other park   we got on a lot of rides quickly this way.AEROSMITH COASTERFast, noisy and jarring. LIke Hyperspace mountain but not so much fun. Not suitable for young children and certainly not worth queueing for hours for. If I went again I'd skip this altogether.HAUNTED HOUSE and CRUSH COASTERThese were both shut for our visit so I can't commentTOWER OF TERRORAgain, we caught this at zero queue time. It's essentially a jumping bean style ride which takes you up and then drops you down. It's very well put together and is the best one of these type of rides I've been on   The ride itself contains ghostly images which may be scary and unsettling for young children (my 9 year old didn't like this at all)MICKEY'S MAGIQUE SHOWTotally worth it. It's a live 1 2 hour show that takes in lots of Disney favourites such as The Lion King and Frozen. It's a bit like seeing 6 West End shows in 1 2 an hour. It says on the guide that you should get there 20 minutes before but it's more like 40   we got there then and we were one of the last ones let in. It doesn't matter where you sit in the theatre (but the way some patrons acted in order to get seats tells you a lot about how people can lose themselves in certain circumstances). We were at the back and had a great time. ARMAGEDDON SPECIAL EFFECTSEssentially a long winded affair where you end up being in a circular room where things explode and flames shoot out of the ceiling. OK but not worth queueing for hours for.TRAM TOURGood fun. You get taken to a 'back lot' set for a movie where you see lots of special effects. I wont spoil it by telling you what but it's very impressive (but only really worth doing once)RATATOUILLE By far and away my favourite ride of all the rides at both parks. It puts you in the place of a rat in a restaurant and does a great job of really making you feel tiny   we did this one 3 times. The queues can get big but it does move quickly. It's not at all scary and a great family ride.FAST PASS   How best to use itFast Pass is an excellent system. Basically you use your ticket to scan a fast pass booth next to the ride and this gives you a time slot to come back at. You then return at this time and get on the ride within 5 minutes as you take a different queue. Be aware that fast pass can sell out very quickly for the popular rides so it's worth planning getting these tickets into your day. We used it to get repeat rides on our favourites. It makes you feel great moving past all the queues (equally you look enviously on Fast Passers when you're in the real queue!).PARK EXHAUSTIONOK. This is really worth considering. My wife's fitbit registered us as clocking up about 20k in an average day. This is a lot (especially for little ones) so you should consider breaking your day accordingly.Because of the magic hour we always arrived at 08:30 but then bailed at around 14:00 when the park became mega busy. If you're in Davey Crockett and still have access to Park Natural go swimming at the aqua centre. This worked out brilliantly for us as it gave the kids a break and got us off our feet. We then had an early dinner and returned to the park for about 18:00 when many day visitors and coaches were leaving.I guess if you're in one of the catered hotels you could do the same with the hotel pool (but I can't comment as I wasn't there).Apart from the night where we saw the castle illuminations we would then leave at about 21:00 as this allowed us to avoid the big queues.FINAL THOUGHTSWas it worth it? Totally. Yes, it's really expensive but our kids had the time of their lives and I took memories back that will stay with me forever. The parks are beautifully maintained and I can't say I had a really negative thing to say about them. We came on Monday and left on Saturday. We had 3 hours in the park on Saturday morning and it was clearly much much busier than mid week (to the point where it was hard to negotiate the number of people around you). So if you've not booked yet it'd be worthwhile avoiding the weekend if at all possible.Oh, and next time   we'll book the Sleeping Beauty suite at the main hotel   it overlooks the main street in the park and has a grand piano   the site doesn't even give you a price for it (you have to phone). I guess I'll get saving now : )I've probably missed lots of stuff but I'm sure you can pick that up from other posts.Hope your trip will be as good as ours!</td>\n",
       "      <td>Paris</td>\n",
       "      <td>Positive</td>\n",
       "      <td>0.9999</td>\n",
       "    </tr>\n",
       "  </tbody>\n",
       "</table>\n",
       "</div>"
      ],
      "text/plain": [
       "              ID  Rating    Date Reviewer_Location  \\\n",
       "30544  573139508       5  2018-4    United Kingdom   \n",
       "\n",
       "                                                                                                                                                                                                                                                                                                                                                                                                                                                                                                                                                                                                                                                                                                                                                                                                                                                                                                                                                                                                                                                                                                                                                                                                                                                                                                                                                                                                                                                                                                                                                                                                                                                                                                                                                                                                                                                                                                                                                                                                                                                                                                                                                                                                                                                                                                                                                                                                                                                                                                                                                                                                                                                                                                                                                                                                                                                                                                                                                                                                                                                                                                                                                                                                                                                                                                                                                                                                                                                                                                                                                                                                                                                                                                                                                                                                                                                                                                                                                                                                                                                                                                                                                                                                                                                                                                                                                                                                                                                                                                                                                                                                                                                                                                                                                                                                                                                                                                                                                                                                                                                                                                                                                                                                                                                                                                                                                                                                                                                                                                                                                                                                                                                                                                                                                                                                                                                                                                                                                                                                                                                                                                                                                                                                                                                                                                                                                                                                                                                                                                                                                                                                                                                                                                                                                                                                                                                                                                                                                                                                                                                                                                                                                                                                                                                                                                                                                                                                                                                                                                                                                                                                                                                                                                                                                                                                                                                                                                                                                                                                                                                                                                                                                                                                                                                                                                                                                                                                                                                                                                                                                                                                                                                                                                                                                                                                                                                                                                                                                                                                                                                                                                                                                                                                                                                                                                                                                                                                                                                                                                                                                                                                                                                                                                                                                                                                                                                                                                                                                                                                                                                                                                                                                                                                                                                                                                                                                                                                                                                                                                                                                                                                                                                                                                                                                                                                                                                                                                                                                                                                                                                                                                                                                                                                                                                                                                                                                                                                                                                                                                                                                                                                                                                                                                                                                                                                                                                                                                                                                                                                                                                                                                                                                                                                                                                                                                                                                                                                                                                                                                                                                                                                                                                                                                                                                                                                                                                                                                                                                                                                                                                                                                                                                                                                                                                                                                                                                                                                                                                                                                                                                                                                                                                                                                                                                                                                    Reviews  \\\n",
       "30544  Hi allHaving just returned from DLP I thought it might be useful to write a short idiots guide with some of the info I wish I'd known before I went.Firstly   getting there. We drove (going through the chunnel) so if you're flying we can't help you with this bit. Our Satnav got us there no problem and most people will have some form of access to a satnav these days. There are signs to DLP but they are few and far between so don't rely on them to guide you there. There is also a very good guide that we used to get us there. It's here under post number 9: https:  www.tripadvisor.co.uk ShowTopic g226865 i2224 k5776128 Driving to DLP and advise please Marne la Vallee Seine et Marne Ile de France.htmlBe aware of the advice about 3 4 of the way down where you need to be in the fast lane to get to the right road   this is easy to miss and the French tend to drive nose to tail so changing lanes can be traumatic! There are guides to avoiding the toll on the A1 but, given what you're spending on the rest of the trip, I'd say it's not worth the hassle   it cost us   22 each way (yep, it's expensive).It goes without saying that you need the extra kit to drive on the French roads but these are readily available at Halfords and other car placesDAVEY CROCKETT RANCHWe stayed at the Davey Crockett ranch which, for us, turned out to be an excellent choice. I'll go over why that was in a moment.The ranch itself was perfect for our needs (be aware they wont let you in until 4pm on the day of arrival). We're 2 adults with a 6 and 9 year old. There were 2 separate rooms with an internal area which had a freezer, fridge, dishwasher, tv but no oven.The reason we went with Davey Crockett was the self catering option. We researched the meal plans beforehand and we thought they were really expensive   we also preferred to cook our own food as lots of the food on site was 'junk' food (chips burgers etc). Not saying that we don't like that but it's good to have a real meal in the day as well. The park states that there's to be no 'pique nique' in the grounds but everyone does it and they don't seem to stop anyone. This is a MAJOR benefit as the prices for food within the park are exorbitant (about   8 for a hotdog and chips etc). This may sound like we're being tight and grumpy but trust me   once you're in the queue for that   8 burger you'll be wincing too   we were very happy with our baguettes which we took with us each morning. Getting food: If you have room I'd recommend taking a lot of sundries with you if you're staying in Davey Crockett. Although reception gives you a guide to finding the big supermarket (Auchan) actually finding it for the first time (before you get familiar with the local roads) can be quite stressful. Again, your Satnav may guide you there no problem but it's worth having a meal ready to go on the first day to avoid trauma. Auchan itself is very well provisioned and has everything you'd need for your trip. We stocked up for the week in 1 shop and never had to go back.But what about the bread? Well there's the 'Park Natural' which is open to Davey Crockett ranch users whilst the pool is being renovated and that contains a great Boulangerie where we picked up our bread for the remainder of the trip. The advantage of this was it was just around the corner from the ranches and therefore much easier to find that Auchan.DISNEY HOTEL OR NOT DISNEY HOTELOK, so we can't comment on the other hotels and you know how we felt about our own. The main and overwhelming reason why you should go for a Disney hotel is the access to magic hour which is super super important to getting the most out of the parks. Basically you get access to the park from 08:30 when the general public get access from 10:00. This time is utterly precious for getting access to characters and the popular rides. If you're smart you can whizz through a lot of the rides that you'd spend hours queueing for later on within this time. Also, your kids are going to want to have their autograph books signed and this is by far the best time to do this (queues for the popular characters can easily be 2 hours plus once the park opens to the general public).AUTOGRAPH HUNTINGWhilst I'm on the subject   if you're looking for one of the princess autographs here's what you should do. Plan to be one of the first at the gate at 08:30 (which probably means getting there at 08:15 or so). Know where the princess meeting booth is (so you might want to do this on the first day and actually get the autograph on the second). Once the gate is opened leg it as fast as you can to the booth (you wont be the only one!!) and get as far up the queue as you can. We didn't do this ('cos we didn't know) and ended up spending from 08:30 to 11:00 in the queue (and you don't get to know which princess it's going to be!). There's precious little to see whilst you're queueing so make sure you have something to keep your little ones amused!There's also a trick to seeing Mickey. He's got his own special house in the main park where you can greet him which usually has brutal queues but he also appears in the Studio park in the morning (next to Aladdin's carpet ride). We only had to wait 30 mins to see him here. So if you manage to time it right this can be a great time saver.THE CASTLE LIGHT UP EVENING SHOWDo this once. Seriously. It is worth seeing but the crowds are huge and getting out afterwards takes forever. Make sure you have good hold on young children and have a contingency plan for getting separated (even for them   the main bandstand for example). We did it mid week, I'd hate to think what it was like on a Saturday. Also, don't worry so much about getting prime position. We were somewhat to the side but still got to see everything and the castle was spectacular.THE RIDESThis is something I wish we'd known before we got there as, if your time is limited, there's definitely some which you should prioritise. We were there for 4 days and it was only by day 4 that we had fully covered both parks.Here's a quick guide to some of the rides and what we thought of them (this is clearly subjective but I'll try to be as open as possible)I'll also only name rides you can't see inside.HYPERSPACE MOUNTAINThis is a full on rollercoaster in the dark with flashing light effects. The height limit is 1.2m but I'd urge caution in letting young children onto this (my daughter is just under 1.2m and I'm very glad she wasn't allowed on   she'd have been terrified). It's easily the most intense ride in the park so if you're looking for thrills   that's the one to go for.SPACE TOURSThis is a great family ride. Basically it's a simulator but it's very well done and suitable for all ages   my 6 year old loved it and she's never seen Star Wars!BUZZ LIGHYEARBasically you're on a track and you shoot targets using a light gun. It was alright but we went on when there was no queue and we didn't go on it again for the remainder of our stay.IT'S A SMALL WORLD AFTER ALLA boat ride through the countries of the world with dolls decked out in national gear. My kids loved it and it's fun for the parents to see the rather patronising view of each country. Its queue also moves really fast so it's worth doing for that alone. As an aside if you've ever played Portal 2 look up at the ceiling whilst you're on the ride   you'll get what I mean...PETER PANA great ride, well worth the queue time. You fly over London and Neverland. It's one of those rides that does a great job of making you feel you're part of a story   especially when you're flying through the stars.PINOCCHIO and SNOW WHITEBasically train rides with models at the side telling the story of the character. Could be scary for very young children. Not worth a huge wait.PIRATES OF THE CARIBBEANArgh! (not in a piratey way). The queue for this was an abomination and is longer than the ride itself. Only go on this one at off peak times. The ride itself is amazingly well done and keeps your attention but we only went on it once as we just couldn't face that queue again! It's suitable for everyone.INDIANA JONESA great fun rollercoaster with a 360 loop. This was one of my eldest daughter's (9) favourites. It's exciting but not terrifying. Again, this is one of the ones you can get onto multiple times if you go off peak.BIG THUNDER MOUNTAINThis was our family favourite rollercoaster. It has a brilliant mix of thrills and character (the ending was exhilarating each time even though you knew it was coming). This was my youngest daughter's (6) favourite ride in the park. The queues can be big so it's worth fast passing this one.STUDIOS PARK RIDESThis park shuts at 7 so you should plan for this when considering what rides to go on. If you time it right you can get on a lot of rides as the park tends to empty towards 7 as people migrate into the other park   we got on a lot of rides quickly this way.AEROSMITH COASTERFast, noisy and jarring. LIke Hyperspace mountain but not so much fun. Not suitable for young children and certainly not worth queueing for hours for. If I went again I'd skip this altogether.HAUNTED HOUSE and CRUSH COASTERThese were both shut for our visit so I can't commentTOWER OF TERRORAgain, we caught this at zero queue time. It's essentially a jumping bean style ride which takes you up and then drops you down. It's very well put together and is the best one of these type of rides I've been on   The ride itself contains ghostly images which may be scary and unsettling for young children (my 9 year old didn't like this at all)MICKEY'S MAGIQUE SHOWTotally worth it. It's a live 1 2 hour show that takes in lots of Disney favourites such as The Lion King and Frozen. It's a bit like seeing 6 West End shows in 1 2 an hour. It says on the guide that you should get there 20 minutes before but it's more like 40   we got there then and we were one of the last ones let in. It doesn't matter where you sit in the theatre (but the way some patrons acted in order to get seats tells you a lot about how people can lose themselves in certain circumstances). We were at the back and had a great time. ARMAGEDDON SPECIAL EFFECTSEssentially a long winded affair where you end up being in a circular room where things explode and flames shoot out of the ceiling. OK but not worth queueing for hours for.TRAM TOURGood fun. You get taken to a 'back lot' set for a movie where you see lots of special effects. I wont spoil it by telling you what but it's very impressive (but only really worth doing once)RATATOUILLE By far and away my favourite ride of all the rides at both parks. It puts you in the place of a rat in a restaurant and does a great job of really making you feel tiny   we did this one 3 times. The queues can get big but it does move quickly. It's not at all scary and a great family ride.FAST PASS   How best to use itFast Pass is an excellent system. Basically you use your ticket to scan a fast pass booth next to the ride and this gives you a time slot to come back at. You then return at this time and get on the ride within 5 minutes as you take a different queue. Be aware that fast pass can sell out very quickly for the popular rides so it's worth planning getting these tickets into your day. We used it to get repeat rides on our favourites. It makes you feel great moving past all the queues (equally you look enviously on Fast Passers when you're in the real queue!).PARK EXHAUSTIONOK. This is really worth considering. My wife's fitbit registered us as clocking up about 20k in an average day. This is a lot (especially for little ones) so you should consider breaking your day accordingly.Because of the magic hour we always arrived at 08:30 but then bailed at around 14:00 when the park became mega busy. If you're in Davey Crockett and still have access to Park Natural go swimming at the aqua centre. This worked out brilliantly for us as it gave the kids a break and got us off our feet. We then had an early dinner and returned to the park for about 18:00 when many day visitors and coaches were leaving.I guess if you're in one of the catered hotels you could do the same with the hotel pool (but I can't comment as I wasn't there).Apart from the night where we saw the castle illuminations we would then leave at about 21:00 as this allowed us to avoid the big queues.FINAL THOUGHTSWas it worth it? Totally. Yes, it's really expensive but our kids had the time of their lives and I took memories back that will stay with me forever. The parks are beautifully maintained and I can't say I had a really negative thing to say about them. We came on Monday and left on Saturday. We had 3 hours in the park on Saturday morning and it was clearly much much busier than mid week (to the point where it was hard to negotiate the number of people around you). So if you've not booked yet it'd be worthwhile avoiding the weekend if at all possible.Oh, and next time   we'll book the Sleeping Beauty suite at the main hotel   it overlooks the main street in the park and has a grand piano   the site doesn't even give you a price for it (you have to phone). I guess I'll get saving now : )I've probably missed lots of stuff but I'm sure you can pick that up from other posts.Hope your trip will be as good as ours!   \n",
       "\n",
       "      Branch Rating_Type  Sentiment_Score  \n",
       "30544  Paris    Positive           0.9999  "
      ]
     },
     "execution_count": 129,
     "metadata": {},
     "output_type": "execute_result"
    }
   ],
   "source": [
    "# The highest sentiment score\n",
    "max_Score = df_vader['Sentiment_Score'].max()\n",
    "\n",
    "# One of the reviews with the highest sentiment scores\n",
    "highest_sentiments = df_vader[df_vader['Sentiment_Score']==max_Score]\n",
    "highest_sentiments.sample(1)"
   ]
  },
  {
   "cell_type": "code",
   "execution_count": 74,
   "id": "4e0c9c96",
   "metadata": {},
   "outputs": [
    {
     "data": {
      "text/plain": [
       "8"
      ]
     },
     "execution_count": 74,
     "metadata": {},
     "output_type": "execute_result"
    }
   ],
   "source": [
    "# Number of reviews with the same max sentiment score\n",
    "len(highest_sentiments)"
   ]
  },
  {
   "cell_type": "code",
   "execution_count": 130,
   "id": "3bd48860",
   "metadata": {},
   "outputs": [
    {
     "data": {
      "text/html": [
       "<div>\n",
       "<style scoped>\n",
       "    .dataframe tbody tr th:only-of-type {\n",
       "        vertical-align: middle;\n",
       "    }\n",
       "\n",
       "    .dataframe tbody tr th {\n",
       "        vertical-align: top;\n",
       "    }\n",
       "\n",
       "    .dataframe thead th {\n",
       "        text-align: right;\n",
       "    }\n",
       "</style>\n",
       "<table border=\"1\" class=\"dataframe\">\n",
       "  <thead>\n",
       "    <tr style=\"text-align: right;\">\n",
       "      <th></th>\n",
       "      <th>ID</th>\n",
       "      <th>Rating</th>\n",
       "      <th>Date</th>\n",
       "      <th>Reviewer_Location</th>\n",
       "      <th>Reviews</th>\n",
       "      <th>Branch</th>\n",
       "      <th>Rating_Type</th>\n",
       "      <th>Sentiment_Score</th>\n",
       "    </tr>\n",
       "  </thead>\n",
       "  <tbody>\n",
       "    <tr>\n",
       "      <th>2823</th>\n",
       "      <td>452236934</td>\n",
       "      <td>1</td>\n",
       "      <td>2016-12</td>\n",
       "      <td>Hong Kong</td>\n",
       "      <td>My young daughter loves Hong Kong Disneyland so we went often. We've visited the park for 9 years continuously, and we were their loyal  Magic Access Card Members . But we   ve faced constant and repeated assault by other visitors, mainly from Mainland China. We   ve been punched, finger poked, hit by selfie sticks, pushed, stepped on, verbally abused etc. Each time the staff just watched, stood there motionless, and they took no actions. I've had 10 15 minute shouting arguments with people because they've either aggressively pushed me or my child, at times in  It's A Small World  and also  HyperSpace Mountain  where the arguments echoed loudly, but the staff do not help or call any security ! When I've complained to the staff (inside the  rides  or in their  City Hall ); they refused to collect the details of the attackers and they did not call the police. In fact; they've NEVER called the police when I asked for their help ! They would say to me  It's a nice day why don't you enjoy the park and rides ! . I   ve sent emails to Hong Kong Disneyland on their security in the park but wthout real satisfaction. To force the personal security issue; on Saturday 3 December 2016 I deliberately took some goods in plain sight from the park   s  Emporium Shop  and walked out slowly until I was caught. It took them 15 minutes to catch up with me. I fully cooperated with the security staff, and I told them my reasons for my actions. My reasons being to high light the lack of personal safety and security within the park, and the fact that all of the security are concentrated in the shops to protect Hong Kong Disney's merchandise. When they caught me I was about to walk back to the shop and return the goods. I had NO intention of keeping the goods. In their INTERROGATION ROOM it was a HORRIBLE  Disney  experience. Harsh, nasty, no empathy, no understanding, a situation I found threatening because I was surrounded by three large security men. There was more security than all of the years I   ve been going there. The attending woman security supervisor ( a  Miss A    a name that sounds like a  musical ) did not care about my reasons. She refused to contact any staff to validate my written complaints. I told her whom to contact and which department, and she refused ! She stated it was another department ! She was robotic and bloody minded ! Her words to me were insulting, and dismissive for the reasons of my actions. She stated to me that they had policies and procedures to follow. I replied that her staff did not follow any policies and procedures when I and my daughter were attacked. She was silent on this. She stated Hong Kong Disneyland will charge me for  theft  and the police will escort me to the Lantau Police Station. She stated that I should take my young daughter with me to the police station because I will be there for a long time. I told her that I could not do that because it will SCARE her. She kept. on saying that  I'm an adult and I should reflect on my actions . That goes both ways ! She lacked the humanity and common sense to understand the reasons for my actions, and she wanted my child to spend hours in a police sation with me ! I spent 12 hours in a police station; and I left at 3am in the morning. Economic loss to Hong Kong Disneyland is ZERO (the goods will be returned to them). Moneatary loss to me will be in the TENS OF THOUSANDS of dollars in lawyers fee's to avoid a conviction ! And all because I was concerned about personal security and safety in Hong Kong Disneyland ! It   s clear to me that Hong Kong Disneyland ONLY cares about protecting (and selling) its overpriced cheaply produced plastic goods. When I and my daughter were attacked NO security personnel ever arrived, but when anybody takes their goods without paying then there is an army of security. The fact that Hong Kong Disneyland wants to prosecute me for my actions shows the true nature and character of the company. Yes I REGRET my actions; I was wrong to think so highly of  Disney  that they would understand my actions and the reasons for it. So much for a  caring  company. My daughter cried for several hours because I was in a police station, and my wife was immensely worried by Hong Kong Disneyland's actions against me. I was told,  by that woman , that I will be banned from returning for a year. Return there after this PHYSCHOLOGICAL TRAUMATIC  Magical Experience  ? HONG KONG DISNEYLAND WILL HAVE TO KILL ME AND DRAG MY DEAD BODY INSIDE THE PARK TO EVER RETURN !</td>\n",
       "      <td>HongKong</td>\n",
       "      <td>Negative</td>\n",
       "      <td>-0.9981</td>\n",
       "    </tr>\n",
       "  </tbody>\n",
       "</table>\n",
       "</div>"
      ],
      "text/plain": [
       "             ID  Rating     Date Reviewer_Location  \\\n",
       "2823  452236934       1  2016-12         Hong Kong   \n",
       "\n",
       "                                                                                                                                                                                                                                                                                                                                                                                                                                                                                                                                                                                                                                                                                                                                                                                                                                                                                                                                                                                                                                                                                                                                                                                                                                                                                                                                                                                                                                                                                                                                                                                                                                                                                                                                                                                                                                                                                                                                                                                                                                                                                                                                                                                                                                                                                                                                                                                                                                                                                                                                                                                                                                                                                                                                                                                                                                                                                                                                                                                                                                                                                                                                                                                                                                                                                                                                                                                                                                                                                                                                                                                                                                                                                                                                                                                                                                                                                                                                                                                                                                                                                                                                                                                                                                                                                                                                                                                                                                                                                                                                                                                                                                                                                                       Reviews  \\\n",
       "2823  My young daughter loves Hong Kong Disneyland so we went often. We've visited the park for 9 years continuously, and we were their loyal  Magic Access Card Members . But we   ve faced constant and repeated assault by other visitors, mainly from Mainland China. We   ve been punched, finger poked, hit by selfie sticks, pushed, stepped on, verbally abused etc. Each time the staff just watched, stood there motionless, and they took no actions. I've had 10 15 minute shouting arguments with people because they've either aggressively pushed me or my child, at times in  It's A Small World  and also  HyperSpace Mountain  where the arguments echoed loudly, but the staff do not help or call any security ! When I've complained to the staff (inside the  rides  or in their  City Hall ); they refused to collect the details of the attackers and they did not call the police. In fact; they've NEVER called the police when I asked for their help ! They would say to me  It's a nice day why don't you enjoy the park and rides ! . I   ve sent emails to Hong Kong Disneyland on their security in the park but wthout real satisfaction. To force the personal security issue; on Saturday 3 December 2016 I deliberately took some goods in plain sight from the park   s  Emporium Shop  and walked out slowly until I was caught. It took them 15 minutes to catch up with me. I fully cooperated with the security staff, and I told them my reasons for my actions. My reasons being to high light the lack of personal safety and security within the park, and the fact that all of the security are concentrated in the shops to protect Hong Kong Disney's merchandise. When they caught me I was about to walk back to the shop and return the goods. I had NO intention of keeping the goods. In their INTERROGATION ROOM it was a HORRIBLE  Disney  experience. Harsh, nasty, no empathy, no understanding, a situation I found threatening because I was surrounded by three large security men. There was more security than all of the years I   ve been going there. The attending woman security supervisor ( a  Miss A    a name that sounds like a  musical ) did not care about my reasons. She refused to contact any staff to validate my written complaints. I told her whom to contact and which department, and she refused ! She stated it was another department ! She was robotic and bloody minded ! Her words to me were insulting, and dismissive for the reasons of my actions. She stated to me that they had policies and procedures to follow. I replied that her staff did not follow any policies and procedures when I and my daughter were attacked. She was silent on this. She stated Hong Kong Disneyland will charge me for  theft  and the police will escort me to the Lantau Police Station. She stated that I should take my young daughter with me to the police station because I will be there for a long time. I told her that I could not do that because it will SCARE her. She kept. on saying that  I'm an adult and I should reflect on my actions . That goes both ways ! She lacked the humanity and common sense to understand the reasons for my actions, and she wanted my child to spend hours in a police sation with me ! I spent 12 hours in a police station; and I left at 3am in the morning. Economic loss to Hong Kong Disneyland is ZERO (the goods will be returned to them). Moneatary loss to me will be in the TENS OF THOUSANDS of dollars in lawyers fee's to avoid a conviction ! And all because I was concerned about personal security and safety in Hong Kong Disneyland ! It   s clear to me that Hong Kong Disneyland ONLY cares about protecting (and selling) its overpriced cheaply produced plastic goods. When I and my daughter were attacked NO security personnel ever arrived, but when anybody takes their goods without paying then there is an army of security. The fact that Hong Kong Disneyland wants to prosecute me for my actions shows the true nature and character of the company. Yes I REGRET my actions; I was wrong to think so highly of  Disney  that they would understand my actions and the reasons for it. So much for a  caring  company. My daughter cried for several hours because I was in a police station, and my wife was immensely worried by Hong Kong Disneyland's actions against me. I was told,  by that woman , that I will be banned from returning for a year. Return there after this PHYSCHOLOGICAL TRAUMATIC  Magical Experience  ? HONG KONG DISNEYLAND WILL HAVE TO KILL ME AND DRAG MY DEAD BODY INSIDE THE PARK TO EVER RETURN !   \n",
       "\n",
       "        Branch Rating_Type  Sentiment_Score  \n",
       "2823  HongKong    Negative          -0.9981  "
      ]
     },
     "execution_count": 130,
     "metadata": {},
     "output_type": "execute_result"
    }
   ],
   "source": [
    "# Review with the lowest sentiment score\n",
    "min_Score = df_vader['Sentiment_Score'].min()\n",
    "\n",
    "lowest_sentiment = df_vader[df_vader['Sentiment_Score']==min_Score]\n",
    "lowest_sentiment"
   ]
  },
  {
   "cell_type": "code",
   "execution_count": 110,
   "id": "19484bd5",
   "metadata": {},
   "outputs": [
    {
     "name": "stdout",
     "output_type": "stream",
     "text": [
      "The average sentiment of all of the positive reviews are:  0.793291993160579\n"
     ]
    }
   ],
   "source": [
    "# Average sentiment of all the positive reviews\n",
    "avg_pos_sentiment = df_vader.Sentiment_Score[df_vader.Rating_Type == 'Positive'].mean()\n",
    "print('The average sentiment of all of the positive reviews are: ', avg_pos_sentiment)"
   ]
  },
  {
   "cell_type": "code",
   "execution_count": 109,
   "id": "4037e995",
   "metadata": {},
   "outputs": [
    {
     "name": "stdout",
     "output_type": "stream",
     "text": [
      "The average sentiment of all of the negative reviews are:  0.05847639271924986\n"
     ]
    }
   ],
   "source": [
    "# Average sentiment of all the negative reviews\n",
    "avg_neg_sentiment = df_vader.Sentiment_Score[df_vader.Rating_Type == 'Negative'].mean()\n",
    "print('The average sentiment of all of the negative reviews are: ', avg_neg_sentiment)"
   ]
  },
  {
   "cell_type": "markdown",
   "id": "7634e129",
   "metadata": {},
   "source": [
    "**4- and 5-star reviews are quite positive with an average sentiment score close to 0.8 while 1- and 2-star reviews are  still positive, although barely.**\n",
    "\n",
    "This may be because of lengthy reviews, as most people who have experiences at the extremes tend to vent out and reviews become  verbose.  As sentences get longer, more neutral words exist, and therefore, the overall score tends to normalize towards neutral, or in this case make something negative more positive.  \n",
    "\n",
    "Also, note that capital letters and punctuation marks increase the sentiment score."
   ]
  },
  {
   "cell_type": "markdown",
   "id": "15dcee75",
   "metadata": {},
   "source": [
    "### Save Files"
   ]
  },
  {
   "cell_type": "code",
   "execution_count": 131,
   "id": "6db28ad6",
   "metadata": {},
   "outputs": [],
   "source": [
    "df_vader.to_pickle('df_sentiment_score_pkl')\n",
    "df_vader.to_csv('df_sentiment_score.gz', compression='gzip', encoding='utf-8', index=False)"
   ]
  },
  {
   "cell_type": "code",
   "execution_count": 106,
   "id": "36236a3f",
   "metadata": {},
   "outputs": [],
   "source": [
    "df_vader = pd.read_pickle('df_sentiment_score_pkl')"
   ]
  },
  {
   "cell_type": "markdown",
   "id": "5b02ea1d",
   "metadata": {},
   "source": [
    "# Visualization of Sentiment"
   ]
  },
  {
   "cell_type": "code",
   "execution_count": 132,
   "id": "5c5ec65f",
   "metadata": {},
   "outputs": [
    {
     "data": {
      "text/html": [
       "<div>\n",
       "<style scoped>\n",
       "    .dataframe tbody tr th:only-of-type {\n",
       "        vertical-align: middle;\n",
       "    }\n",
       "\n",
       "    .dataframe tbody tr th {\n",
       "        vertical-align: top;\n",
       "    }\n",
       "\n",
       "    .dataframe thead th {\n",
       "        text-align: right;\n",
       "    }\n",
       "</style>\n",
       "<table border=\"1\" class=\"dataframe\">\n",
       "  <thead>\n",
       "    <tr style=\"text-align: right;\">\n",
       "      <th></th>\n",
       "      <th>Sentiment_Score</th>\n",
       "    </tr>\n",
       "  </thead>\n",
       "  <tbody>\n",
       "    <tr>\n",
       "      <th>count</th>\n",
       "      <td>37547.000000</td>\n",
       "    </tr>\n",
       "    <tr>\n",
       "      <th>mean</th>\n",
       "      <td>0.722329</td>\n",
       "    </tr>\n",
       "    <tr>\n",
       "      <th>std</th>\n",
       "      <td>0.443817</td>\n",
       "    </tr>\n",
       "    <tr>\n",
       "      <th>min</th>\n",
       "      <td>-0.998100</td>\n",
       "    </tr>\n",
       "    <tr>\n",
       "      <th>25%</th>\n",
       "      <td>0.723100</td>\n",
       "    </tr>\n",
       "    <tr>\n",
       "      <th>50%</th>\n",
       "      <td>0.909500</td>\n",
       "    </tr>\n",
       "    <tr>\n",
       "      <th>75%</th>\n",
       "      <td>0.968800</td>\n",
       "    </tr>\n",
       "    <tr>\n",
       "      <th>max</th>\n",
       "      <td>0.999900</td>\n",
       "    </tr>\n",
       "  </tbody>\n",
       "</table>\n",
       "</div>"
      ],
      "text/plain": [
       "       Sentiment_Score\n",
       "count     37547.000000\n",
       "mean          0.722329\n",
       "std           0.443817\n",
       "min          -0.998100\n",
       "25%           0.723100\n",
       "50%           0.909500\n",
       "75%           0.968800\n",
       "max           0.999900"
      ]
     },
     "execution_count": 132,
     "metadata": {},
     "output_type": "execute_result"
    }
   ],
   "source": [
    "# Distribution of sentiment scores\n",
    "df_vader[['Sentiment_Score']].describe()"
   ]
  },
  {
   "cell_type": "code",
   "execution_count": 40,
   "id": "bef78bf8",
   "metadata": {},
   "outputs": [
    {
     "data": {
      "image/png": "[encoded data removed]",
      "text/plain": [
       "<Figure size 432x288 with 1 Axes>"
      ]
     },
     "metadata": {},
     "output_type": "display_data"
    }
   ],
   "source": [
    "# Boxplot of sentiment scores across the different parks\n",
    "sns.set(style='white')\n",
    "sns.boxplot(x=\"Branch\", y=\"Sentiment_Score\",  \n",
    "            data=df_vader).set(title='Distribution of Sentiment Scores Across Parks')\n",
    "sns.despine()\n",
    "\n",
    "plt.xlabel('Disney Location')\n",
    "plt.ylabel('Sentiment Score')\n",
    "plt.tight_layout()"
   ]
  },
  {
   "cell_type": "code",
   "execution_count": 154,
   "id": "2ba10137",
   "metadata": {},
   "outputs": [
    {
     "data": {
      "text/plain": [
       "Text(0.5, 0, 'Sentiment Score')"
      ]
     },
     "execution_count": 154,
     "metadata": {},
     "output_type": "execute_result"
    },
    {
     "data": {
      "image/png": "[encoded data removed]",
      "text/plain": [
       "<Figure size 432x288 with 1 Axes>"
      ]
     },
     "metadata": {},
     "output_type": "display_data"
    }
   ],
   "source": [
    "# Horizontal view shows differences a little better....\n",
    "sns.set(style='white')\n",
    "sns.boxplot(x=df_vader.Sentiment_Score, y=df_vader.Branch,  \n",
    "            data=df_vader).set(title='Distribution of Sentiment Scores Across Parks')\n",
    "sns.despine()\n",
    "\n",
    "plt.ylabel('Disney Location')\n",
    "plt.xlabel('Sentiment Score')\n"
   ]
  },
  {
   "cell_type": "code",
   "execution_count": 44,
   "id": "7fd4b4f7",
   "metadata": {},
   "outputs": [
    {
     "data": {
      "text/plain": [
       "<AxesSubplot:>"
      ]
     },
     "execution_count": 44,
     "metadata": {},
     "output_type": "execute_result"
    },
    {
     "data": {
      "image/png": "[encoded data removed]",
      "text/plain": [
       "<Figure size 432x288 with 1 Axes>"
      ]
     },
     "metadata": {},
     "output_type": "display_data"
    }
   ],
   "source": [
    "# Distribution of Sentiment for everything Disney - California\n",
    "df_vader[df_vader.Branch=='California']['Sentiment_Score'].hist()"
   ]
  },
  {
   "cell_type": "code",
   "execution_count": 43,
   "id": "3f237182",
   "metadata": {},
   "outputs": [
    {
     "data": {
      "text/plain": [
       "<AxesSubplot:>"
      ]
     },
     "execution_count": 43,
     "metadata": {},
     "output_type": "execute_result"
    },
    {
     "data": {
      "image/png": "[encoded data removed]",
      "text/plain": [
       "<Figure size 432x288 with 1 Axes>"
      ]
     },
     "metadata": {},
     "output_type": "display_data"
    }
   ],
   "source": [
    "# Distribution of Sentiment for everything Disney - Paris\n",
    "df_vader[df_vader.Branch=='Paris']['Sentiment_Score'].hist()"
   ]
  },
  {
   "cell_type": "code",
   "execution_count": 45,
   "id": "bd9a2407",
   "metadata": {},
   "outputs": [
    {
     "data": {
      "text/plain": [
       "<AxesSubplot:>"
      ]
     },
     "execution_count": 45,
     "metadata": {},
     "output_type": "execute_result"
    },
    {
     "data": {
      "image/png": "[encoded data removed]",
      "text/plain": [
       "<Figure size 432x288 with 1 Axes>"
      ]
     },
     "metadata": {},
     "output_type": "display_data"
    }
   ],
   "source": [
    "# Distribution of Sentiment for everything Disney - HongKong\n",
    "df_vader[df_vader.Branch=='HongKong']['Sentiment_Score'].hist()"
   ]
  },
  {
   "cell_type": "markdown",
   "id": "4085247d",
   "metadata": {},
   "source": [
    "For each park, the Sentiment is largely skewed right, so people are, more often than not, having a great time at these parks!"
   ]
  },
  {
   "cell_type": "code",
   "execution_count": null,
   "id": "cc6121f8",
   "metadata": {},
   "outputs": [],
   "source": []
  }
 ],
 "metadata": {
  "kernelspec": {
   "display_name": "Python [conda env:metis] *",
   "language": "python",
   "name": "conda-env-metis-py"
  },
  "language_info": {
   "codemirror_mode": {
    "name": "ipython",
    "version": 3
   },
   "file_extension": ".py",
   "mimetype": "text/x-python",
   "name": "python",
   "nbconvert_exporter": "python",
   "pygments_lexer": "ipython3",
   "version": "3.9.12"
  }
 },
 "nbformat": 4,
 "nbformat_minor": 5
}
