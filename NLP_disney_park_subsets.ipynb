{
 "cells": [
  {
   "cell_type": "code",
   "execution_count": 1,
   "id": "240d6326",
   "metadata": {},
   "outputs": [],
   "source": [
    "import pandas as pd\n",
    "import numpy as np\n",
    "from collections import Counter\n",
    "\n",
    "# Visualization\n",
    "import scattertext as st\n",
    "import matplotlib.pyplot as plt\n",
    "import seaborn as sns\n",
    "%matplotlib inline\n",
    "\n",
    "# Preprocessing Tools\n",
    "import nltk\n",
    "from nltk.corpus import stopwords\n",
    "from nltk.tokenize import RegexpTokenizer\n",
    "import spacy\n",
    "\n",
    "# Document-Term Matrix\n",
    "from sklearn.feature_extraction.text import CountVectorizer, TfidfVectorizer\n",
    "\n",
    "# Topic Modeling\n",
    "from sklearn.decomposition import TruncatedSVD, NMF\n",
    "\n",
    "# Topic Modeling\n",
    "from corextopic import corextopic as ct\n",
    "from corextopic import vis_topic as vt"
   ]
  },
  {
   "cell_type": "markdown",
   "id": "85b31692",
   "metadata": {},
   "source": [
    "# Load Data"
   ]
  },
  {
   "cell_type": "code",
   "execution_count": 2,
   "id": "a725ab4e",
   "metadata": {},
   "outputs": [],
   "source": [
    "# Read in the pickle file\n",
    "df = pd.read_pickle('df_sentiment_score_spacy_docs_cleaned_pkl')"
   ]
  },
  {
   "cell_type": "markdown",
   "id": "096ca358",
   "metadata": {},
   "source": [
    "# Divide Reviews into Subsets"
   ]
  },
  {
   "cell_type": "code",
   "execution_count": 3,
   "id": "7044e43d",
   "metadata": {},
   "outputs": [
    {
     "data": {
      "text/html": [
       "<div>\n",
       "<style scoped>\n",
       "    .dataframe tbody tr th:only-of-type {\n",
       "        vertical-align: middle;\n",
       "    }\n",
       "\n",
       "    .dataframe tbody tr th {\n",
       "        vertical-align: top;\n",
       "    }\n",
       "\n",
       "    .dataframe thead th {\n",
       "        text-align: right;\n",
       "    }\n",
       "</style>\n",
       "<table border=\"1\" class=\"dataframe\">\n",
       "  <thead>\n",
       "    <tr style=\"text-align: right;\">\n",
       "      <th></th>\n",
       "      <th>ID</th>\n",
       "      <th>Rating</th>\n",
       "      <th>Date</th>\n",
       "      <th>Reviewer_Location</th>\n",
       "      <th>Reviews</th>\n",
       "      <th>Branch</th>\n",
       "      <th>Rating_Type</th>\n",
       "      <th>Sentiment_Score</th>\n",
       "      <th>spacy_doc</th>\n",
       "      <th>docs_clean</th>\n",
       "    </tr>\n",
       "  </thead>\n",
       "  <tbody>\n",
       "    <tr>\n",
       "      <th>30511</th>\n",
       "      <td>575146297</td>\n",
       "      <td>5</td>\n",
       "      <td>2018-3</td>\n",
       "      <td>United States</td>\n",
       "      <td>Such a fun day with my mother and sister! Fun memories together that we never got to make when we were younger, but now we've got some &amp; they will last us a lifetime!</td>\n",
       "      <td>Paris</td>\n",
       "      <td>Positive</td>\n",
       "      <td>0.5972</td>\n",
       "      <td>(Such, a, fun, day, with, my, mother, and, sister, !, Fun, memories, together, that, we, never, got, to, make, when, we, were, younger, ,, but, now, we, 've, got, some, &amp;, they, will, last, us, a, lifetime, !)</td>\n",
       "      <td>[fun, day, mother, sister, fun, memory, get, young, get, lifetime]</td>\n",
       "    </tr>\n",
       "    <tr>\n",
       "      <th>30998</th>\n",
       "      <td>547397695</td>\n",
       "      <td>5</td>\n",
       "      <td>2017-11</td>\n",
       "      <td>United Kingdom</td>\n",
       "      <td>Spent 4 days here with friends last month and had yet another amazing visit. The new parades are just as amazing as ever and the illuminations on the castle was fantastic, would recommend seeing. Loved all the rides especially Thunder Mountain in the dark. The single rider queues were a good idea and used it a couple of times. Would recommend booking restaurants in the park before arriving if possible, the ones we wanted to go to were all fully booked. All staff we so friendly and helpful. Cant wait to return again one day.</td>\n",
       "      <td>Paris</td>\n",
       "      <td>Positive</td>\n",
       "      <td>0.9864</td>\n",
       "      <td>(Spent, 4, days, here, with, friends, last, month, and, had, yet, another, amazing, visit, ., The, new, parades, are, just, as, amazing, as, ever, and, the, illuminations, on, the, castle, was, fantastic, ,, would, recommend, seeing, ., Loved, all, the, rides, especially, Thunder, Mountain, in, the, dark, ., The, single, rider, queues, were, a, good, idea, and, used, it, a, couple, of, times, ., Would, recommend, booking, restaurants, in, the, park, before, arriving, if, possible, ,, the, ones, we, wanted, to, go, to, were, all, fully, booked, ., All, staff, we, so, friendly, and, helpful, ., Ca, nt, wait, to, ...)</td>\n",
       "      <td>[spend, day, friend, month, amazing, visit, new, parade, amazing, illumination, castle, fantastic, recommend, seeing, love, ride, especially, thunder, mountain, dark, single, rider, queue, good, idea, couple, time, recommend, book, restaurant, park, arrive, possible, one, want, fully, book, staff, friendly, helpful, nt, wait, return, day]</td>\n",
       "    </tr>\n",
       "    <tr>\n",
       "      <th>32099</th>\n",
       "      <td>481408468</td>\n",
       "      <td>4</td>\n",
       "      <td>2017-4</td>\n",
       "      <td>Norway</td>\n",
       "      <td>Visited Disneyland Park with a friend. We had purchased tickets online, so it didn't take that long to get in. The atmosphere in the park is nice. Unfortunately, it seemed like we visited on a busy day, so the lines were long. Getting fast passes for the rides you really want to ride is strongly recommended. There is also an app that shows wait times for the different rides, and this can be quite helpful for planning where to go.</td>\n",
       "      <td>Paris</td>\n",
       "      <td>Positive</td>\n",
       "      <td>0.9133</td>\n",
       "      <td>(Visited, Disneyland, Park, with, a, friend, ., We, had, purchased, tickets, online, ,, so, it, did, n't, take, that, long, to, get, in, ., The, atmosphere, in, the, park, is, nice, ., Unfortunately, ,, it, seemed, like, we, visited, on, a, busy, day, ,, so, the, lines, were, long, ., Getting, fast, passes, for, the, rides, you, really, want, to, ride, is, strongly, recommended, ., There, is, also, an, app, that, shows, wait, times, for, the, different, rides, ,, and, this, can, be, quite, helpful, for, planning, where, to, go, .)</td>\n",
       "      <td>[visited, disneyland, park, friend, purchase, ticket, online, long, atmosphere, park, nice, unfortunately, like, visit, busy, day, line, long, get, fast, pass, ride, want, ride, strongly, recommend, app, show, wait, time, different, ride, helpful, plan]</td>\n",
       "    </tr>\n",
       "  </tbody>\n",
       "</table>\n",
       "</div>"
      ],
      "text/plain": [
       "              ID  Rating     Date Reviewer_Location  \\\n",
       "30511  575146297       5   2018-3     United States   \n",
       "30998  547397695       5  2017-11    United Kingdom   \n",
       "32099  481408468       4   2017-4            Norway   \n",
       "\n",
       "                                                                                                                                                                                                                                                                                                                                                                                                                                                                                                                                                 Reviews  \\\n",
       "30511                                                                                                                                                                                                                                                                                                                                                                             Such a fun day with my mother and sister! Fun memories together that we never got to make when we were younger, but now we've got some & they will last us a lifetime!   \n",
       "30998  Spent 4 days here with friends last month and had yet another amazing visit. The new parades are just as amazing as ever and the illuminations on the castle was fantastic, would recommend seeing. Loved all the rides especially Thunder Mountain in the dark. The single rider queues were a good idea and used it a couple of times. Would recommend booking restaurants in the park before arriving if possible, the ones we wanted to go to were all fully booked. All staff we so friendly and helpful. Cant wait to return again one day.   \n",
       "32099                                                                                                  Visited Disneyland Park with a friend. We had purchased tickets online, so it didn't take that long to get in. The atmosphere in the park is nice. Unfortunately, it seemed like we visited on a busy day, so the lines were long. Getting fast passes for the rides you really want to ride is strongly recommended. There is also an app that shows wait times for the different rides, and this can be quite helpful for planning where to go.   \n",
       "\n",
       "      Branch Rating_Type  Sentiment_Score  \\\n",
       "30511  Paris    Positive           0.5972   \n",
       "30998  Paris    Positive           0.9864   \n",
       "32099  Paris    Positive           0.9133   \n",
       "\n",
       "                                                                                                                                                                                                                                                                                                                                                                                                                                                                                                                                                                                                                                            spacy_doc  \\\n",
       "30511                                                                                                                                                                                                                                                                                                                                                                                                                               (Such, a, fun, day, with, my, mother, and, sister, !, Fun, memories, together, that, we, never, got, to, make, when, we, were, younger, ,, but, now, we, 've, got, some, &, they, will, last, us, a, lifetime, !)   \n",
       "30998  (Spent, 4, days, here, with, friends, last, month, and, had, yet, another, amazing, visit, ., The, new, parades, are, just, as, amazing, as, ever, and, the, illuminations, on, the, castle, was, fantastic, ,, would, recommend, seeing, ., Loved, all, the, rides, especially, Thunder, Mountain, in, the, dark, ., The, single, rider, queues, were, a, good, idea, and, used, it, a, couple, of, times, ., Would, recommend, booking, restaurants, in, the, park, before, arriving, if, possible, ,, the, ones, we, wanted, to, go, to, were, all, fully, booked, ., All, staff, we, so, friendly, and, helpful, ., Ca, nt, wait, to, ...)   \n",
       "32099                                                                                        (Visited, Disneyland, Park, with, a, friend, ., We, had, purchased, tickets, online, ,, so, it, did, n't, take, that, long, to, get, in, ., The, atmosphere, in, the, park, is, nice, ., Unfortunately, ,, it, seemed, like, we, visited, on, a, busy, day, ,, so, the, lines, were, long, ., Getting, fast, passes, for, the, rides, you, really, want, to, ride, is, strongly, recommended, ., There, is, also, an, app, that, shows, wait, times, for, the, different, rides, ,, and, this, can, be, quite, helpful, for, planning, where, to, go, .)   \n",
       "\n",
       "                                                                                                                                                                                                                                                                                                                                                 docs_clean  \n",
       "30511                                                                                                                                                                                                                                                                                    [fun, day, mother, sister, fun, memory, get, young, get, lifetime]  \n",
       "30998  [spend, day, friend, month, amazing, visit, new, parade, amazing, illumination, castle, fantastic, recommend, seeing, love, ride, especially, thunder, mountain, dark, single, rider, queue, good, idea, couple, time, recommend, book, restaurant, park, arrive, possible, one, want, fully, book, staff, friendly, helpful, nt, wait, return, day]  \n",
       "32099                                                                                         [visited, disneyland, park, friend, purchase, ticket, online, long, atmosphere, park, nice, unfortunately, like, visit, busy, day, line, long, get, fast, pass, ride, want, ride, strongly, recommend, app, show, wait, time, different, ride, helpful, plan]  "
      ]
     },
     "execution_count": 3,
     "metadata": {},
     "output_type": "execute_result"
    }
   ],
   "source": [
    "# Set the display constraints to be able to read entire reviews\n",
    "pd.set_option('display.max_colwidth', None)\n",
    "\n",
    "df.sample(3)"
   ]
  },
  {
   "cell_type": "code",
   "execution_count": 4,
   "id": "dff14874",
   "metadata": {},
   "outputs": [
    {
     "data": {
      "text/plain": [
       "(17745, 10)"
      ]
     },
     "execution_count": 4,
     "metadata": {},
     "output_type": "execute_result"
    }
   ],
   "source": [
    "# Disneyland - California\n",
    "calif = df[df['Branch']=='California']\n",
    "calif.shape"
   ]
  },
  {
   "cell_type": "code",
   "execution_count": 5,
   "id": "f199c8ab",
   "metadata": {},
   "outputs": [
    {
     "data": {
      "text/plain": [
       "(11547, 10)"
      ]
     },
     "execution_count": 5,
     "metadata": {},
     "output_type": "execute_result"
    }
   ],
   "source": [
    "# Disneyland - Paris\n",
    "paris = df[df['Branch']=='Paris']\n",
    "paris.shape"
   ]
  },
  {
   "cell_type": "code",
   "execution_count": 6,
   "id": "8c01ccad",
   "metadata": {},
   "outputs": [
    {
     "data": {
      "text/plain": [
       "(8255, 10)"
      ]
     },
     "execution_count": 6,
     "metadata": {},
     "output_type": "execute_result"
    }
   ],
   "source": [
    "# Disneyland - HongKong\n",
    "hkong = df[df['Branch']=='HongKong']\n",
    "hkong.shape"
   ]
  },
  {
   "cell_type": "code",
   "execution_count": 36,
   "id": "077883c7",
   "metadata": {},
   "outputs": [
    {
     "data": {
      "text/html": [
       "<div>\n",
       "<style scoped>\n",
       "    .dataframe tbody tr th:only-of-type {\n",
       "        vertical-align: middle;\n",
       "    }\n",
       "\n",
       "    .dataframe tbody tr th {\n",
       "        vertical-align: top;\n",
       "    }\n",
       "\n",
       "    .dataframe thead th {\n",
       "        text-align: right;\n",
       "    }\n",
       "</style>\n",
       "<table border=\"1\" class=\"dataframe\">\n",
       "  <thead>\n",
       "    <tr style=\"text-align: right;\">\n",
       "      <th></th>\n",
       "      <th>ID</th>\n",
       "      <th>Rating</th>\n",
       "      <th>Date</th>\n",
       "      <th>Reviewer_Location</th>\n",
       "      <th>Reviews</th>\n",
       "      <th>Branch</th>\n",
       "      <th>Rating_Type</th>\n",
       "      <th>Sentiment_Score</th>\n",
       "      <th>spacy_doc</th>\n",
       "      <th>docs_clean</th>\n",
       "    </tr>\n",
       "  </thead>\n",
       "  <tbody>\n",
       "    <tr>\n",
       "      <th>1553</th>\n",
       "      <td>547367670</td>\n",
       "      <td>4</td>\n",
       "      <td>2017-12</td>\n",
       "      <td>Malaysia</td>\n",
       "      <td>parks are well maintained. Staff are friendly.   In comparison with Tokyo disneyland, this park is relatively small and have less games.  if you plan properly, you can play most of the games within a day.   The toys in the shops are expensive.</td>\n",
       "      <td>HongKong</td>\n",
       "      <td>Positive</td>\n",
       "      <td>0.7717</td>\n",
       "      <td>(parks, are, well, maintained, ., Staff, are, friendly, .,   , In, comparison, with, Tokyo, disneyland, ,, this, park, is, relatively, small, and, have, less, games, .,  , if, you, plan, properly, ,, you, can, play, most, of, the, games, within, a, day, .,   , The, toys, in, the, shops, are, expensive, .)</td>\n",
       "      <td>[park, maintain, staff, friendly,   , comparison, tokyo, disneyland, park, relatively, small, game,  , plan, properly, play, game, day,   , toy, shop, expensive]</td>\n",
       "    </tr>\n",
       "    <tr>\n",
       "      <th>3492</th>\n",
       "      <td>415568547</td>\n",
       "      <td>2</td>\n",
       "      <td>2016-9</td>\n",
       "      <td>Malaysia</td>\n",
       "      <td>Part of it why I didnt enjoyed was because it was raining the day I went. And I found out they charged for the raincoat at HKD 65, and some of their rides are even closed.</td>\n",
       "      <td>HongKong</td>\n",
       "      <td>Negative</td>\n",
       "      <td>-0.5426</td>\n",
       "      <td>(Part, of, it, why, I, did, nt, enjoyed, was, because, it, was, raining, the, day, I, went, ., And, I, found, out, they, charged, for, the, raincoat, at, HKD, 65, ,, and, some, of, their, rides, are, even, closed, .)</td>\n",
       "      <td>[not, enjoy, rain, day, go, find, charge, raincoat, hkd, ride, closed]</td>\n",
       "    </tr>\n",
       "  </tbody>\n",
       "</table>\n",
       "</div>"
      ],
      "text/plain": [
       "             ID  Rating     Date Reviewer_Location  \\\n",
       "1553  547367670       4  2017-12          Malaysia   \n",
       "3492  415568547       2   2016-9          Malaysia   \n",
       "\n",
       "                                                                                                                                                                                                                                                  Reviews  \\\n",
       "1553  parks are well maintained. Staff are friendly.   In comparison with Tokyo disneyland, this park is relatively small and have less games.  if you plan properly, you can play most of the games within a day.   The toys in the shops are expensive.   \n",
       "3492                                                                          Part of it why I didnt enjoyed was because it was raining the day I went. And I found out they charged for the raincoat at HKD 65, and some of their rides are even closed.   \n",
       "\n",
       "        Branch Rating_Type  Sentiment_Score  \\\n",
       "1553  HongKong    Positive           0.7717   \n",
       "3492  HongKong    Negative          -0.5426   \n",
       "\n",
       "                                                                                                                                                                                                                                                                                                               spacy_doc  \\\n",
       "1553  (parks, are, well, maintained, ., Staff, are, friendly, .,   , In, comparison, with, Tokyo, disneyland, ,, this, park, is, relatively, small, and, have, less, games, .,  , if, you, plan, properly, ,, you, can, play, most, of, the, games, within, a, day, .,   , The, toys, in, the, shops, are, expensive, .)   \n",
       "3492                                                                                            (Part, of, it, why, I, did, nt, enjoyed, was, because, it, was, raining, the, day, I, went, ., And, I, found, out, they, charged, for, the, raincoat, at, HKD, 65, ,, and, some, of, their, rides, are, even, closed, .)   \n",
       "\n",
       "                                                                                                                                                             docs_clean  \n",
       "1553  [park, maintain, staff, friendly,   , comparison, tokyo, disneyland, park, relatively, small, game,  , plan, properly, play, game, day,   , toy, shop, expensive]  \n",
       "3492                                                                                             [not, enjoy, rain, day, go, find, charge, raincoat, hkd, ride, closed]  "
      ]
     },
     "execution_count": 36,
     "metadata": {},
     "output_type": "execute_result"
    }
   ],
   "source": [
    "hkong.sample(2)"
   ]
  },
  {
   "cell_type": "markdown",
   "id": "dba261db",
   "metadata": {},
   "source": [
    "# POS by Positive Rating"
   ]
  },
  {
   "cell_type": "code",
   "execution_count": 9,
   "id": "a2a0dfa6",
   "metadata": {},
   "outputs": [
    {
     "data": {
      "text/plain": [
       "[('great', 6936),\n",
       " ('fast', 3550),\n",
       " ('good', 3361),\n",
       " ('many', 3044),\n",
       " ('first', 3037),\n",
       " ('more', 3021),\n",
       " ('long', 2723),\n",
       " ('best', 2514),\n",
       " ('old', 2407),\n",
       " ('other', 2374),\n",
       " ('worth', 2288),\n",
       " ('little', 2278),\n",
       " ('amazing', 2259),\n",
       " ('most', 1805),\n",
       " ('much', 1758),\n",
       " ('sure', 1758),\n",
       " ('magical', 1723),\n",
       " ('few', 1685),\n",
       " ('fun', 1645),\n",
       " ('busy', 1644)]"
      ]
     },
     "execution_count": 9,
     "metadata": {},
     "output_type": "execute_result"
    }
   ],
   "source": [
    "# Filter out the positive reviews\n",
    "calif_pos_reviews = calif[calif['Rating_Type']=='Positive']\n",
    "\n",
    "# Extract the adjectives in the positive reviews\n",
    "calif_pos_adj = [token.text.lower() for doc in calif_pos_reviews.spacy_doc for token in doc if token.pos_=='ADJ']\n",
    "\n",
    "# Find the 20 most common adjectives in the positive reviews\n",
    "calif_top_pos_adj = Counter(calif_pos_adj).most_common(20)\n",
    "calif_top_pos_adj"
   ]
  },
  {
   "cell_type": "code",
   "execution_count": 10,
   "id": "e2fd4d89",
   "metadata": {},
   "outputs": [
    {
     "data": {
      "text/plain": [
       "[('great', 4725),\n",
       " ('good', 4217),\n",
       " ('amazing', 2475),\n",
       " ('worth', 2248),\n",
       " ('fast', 2214),\n",
       " ('expensive', 2177),\n",
       " ('more', 2172),\n",
       " ('little', 2031),\n",
       " ('old', 1949),\n",
       " ('other', 1931),\n",
       " ('long', 1926),\n",
       " ('magical', 1897),\n",
       " ('many', 1879),\n",
       " ('best', 1703),\n",
       " ('few', 1679),\n",
       " ('most', 1614),\n",
       " ('first', 1572),\n",
       " ('busy', 1504),\n",
       " ('big', 1387),\n",
       " ('fantastic', 1364)]"
      ]
     },
     "execution_count": 10,
     "metadata": {},
     "output_type": "execute_result"
    }
   ],
   "source": [
    "# Filter out the positive reviews\n",
    "paris_pos_reviews = paris[paris['Rating_Type']=='Positive']\n",
    "\n",
    "# Extract the adjectives in the positive reviews\n",
    "paris_pos_adj = [token.text.lower() for doc in paris_pos_reviews.spacy_doc for token in doc if token.pos_=='ADJ']\n",
    "\n",
    "# Find the 20 most common adjectives in the positive reviews\n",
    "paris_top_pos_adj = Counter(paris_pos_adj).most_common(20)\n",
    "paris_top_pos_adj"
   ]
  },
  {
   "cell_type": "code",
   "execution_count": 11,
   "id": "20314e5f",
   "metadata": {},
   "outputs": [
    {
     "data": {
      "text/plain": [
       "[('great', 2741),\n",
       " ('good', 2320),\n",
       " ('small', 1589),\n",
       " ('other', 1517),\n",
       " ('more', 1377),\n",
       " ('many', 1182),\n",
       " ('worth', 1108),\n",
       " ('long', 1088),\n",
       " ('best', 1055),\n",
       " ('most', 1027),\n",
       " ('first', 947),\n",
       " ('old', 944),\n",
       " ('nice', 927),\n",
       " ('smaller', 897),\n",
       " ('expensive', 844),\n",
       " ('big', 817),\n",
       " ('little', 807),\n",
       " ('amazing', 801),\n",
       " ('fun', 764),\n",
       " ('easy', 758)]"
      ]
     },
     "execution_count": 11,
     "metadata": {},
     "output_type": "execute_result"
    }
   ],
   "source": [
    "# Filter out the positive reviews\n",
    "hkong_pos_reviews = hkong[hkong['Rating_Type']=='Positive']\n",
    "\n",
    "# Extract the adjectives in the positive reviews\n",
    "hkong_pos_adj = [token.text.lower() for doc in hkong_pos_reviews.spacy_doc for token in doc if token.pos_=='ADJ']\n",
    "\n",
    "# Find the 20 most common adjectives in the positive reviews\n",
    "hkong_top_pos_adj = Counter(hkong_pos_adj).most_common(20)\n",
    "hkong_top_pos_adj"
   ]
  },
  {
   "cell_type": "markdown",
   "id": "7339dbcb",
   "metadata": {},
   "source": [
    "# POS by Negative Rating"
   ]
  },
  {
   "cell_type": "code",
   "execution_count": 12,
   "id": "1c27079d",
   "metadata": {},
   "outputs": [
    {
     "data": {
      "text/plain": [
       "[('many', 530),\n",
       " ('long', 379),\n",
       " ('fast', 376),\n",
       " ('other', 340),\n",
       " ('more', 338),\n",
       " ('good', 284),\n",
       " ('old', 262),\n",
       " ('first', 245),\n",
       " ('last', 223),\n",
       " ('crowded', 217),\n",
       " ('great', 207),\n",
       " ('few', 206),\n",
       " ('expensive', 195),\n",
       " ('better', 186),\n",
       " ('most', 181),\n",
       " ('same', 178),\n",
       " ('disappointed', 173),\n",
       " ('worth', 171),\n",
       " ('much', 161),\n",
       " ('small', 158)]"
      ]
     },
     "execution_count": 12,
     "metadata": {},
     "output_type": "execute_result"
    }
   ],
   "source": [
    "# Do the same for the negative reviews\n",
    "calif_neg_reviews = calif[calif['Rating_Type']=='Negative']\n",
    "\n",
    "calif_neg_adj = [token.text.lower() for doc in calif_neg_reviews.spacy_doc for token in doc if token.pos_=='ADJ']\n",
    "\n",
    "# Top 20 common adjectives in negative reviews\n",
    "calif_neg_adj = Counter(calif_neg_adj).most_common(20)\n",
    "calif_neg_adj"
   ]
  },
  {
   "cell_type": "code",
   "execution_count": 13,
   "id": "65a53080",
   "metadata": {},
   "outputs": [
    {
     "data": {
      "text/plain": [
       "[('many', 682),\n",
       " ('good', 652),\n",
       " ('other', 620),\n",
       " ('more', 560),\n",
       " ('fast', 514),\n",
       " ('long', 493),\n",
       " ('expensive', 467),\n",
       " ('old', 451),\n",
       " ('few', 443),\n",
       " ('same', 416),\n",
       " ('most', 410),\n",
       " ('great', 359),\n",
       " ('better', 359),\n",
       " ('first', 350),\n",
       " ('small', 347),\n",
       " ('poor', 344),\n",
       " ('open', 322),\n",
       " ('little', 308),\n",
       " ('rude', 299),\n",
       " ('last', 287)]"
      ]
     },
     "execution_count": 13,
     "metadata": {},
     "output_type": "execute_result"
    }
   ],
   "source": [
    "# Do the same for the negative reviews\n",
    "paris_neg_reviews = paris[paris['Rating_Type']=='Negative']\n",
    "\n",
    "paris_neg_adj = [token.text.lower() for doc in paris_neg_reviews.spacy_doc for token in doc if token.pos_=='ADJ']\n",
    "\n",
    "# Top 20 common adjectives in negative reviews\n",
    "paris_neg_adj = Counter(paris_neg_adj).most_common(20)\n",
    "paris_neg_adj"
   ]
  },
  {
   "cell_type": "code",
   "execution_count": 14,
   "id": "9d48fb98",
   "metadata": {},
   "outputs": [
    {
     "data": {
      "text/plain": [
       "[('small', 188),\n",
       " ('other', 150),\n",
       " ('more', 118),\n",
       " ('good', 114),\n",
       " ('many', 102),\n",
       " ('long', 90),\n",
       " ('old', 67),\n",
       " ('few', 66),\n",
       " ('better', 66),\n",
       " ('bad', 64),\n",
       " ('worth', 61),\n",
       " ('expensive', 61),\n",
       " ('little', 58),\n",
       " ('much', 55),\n",
       " ('rude', 54),\n",
       " ('first', 52),\n",
       " ('great', 51),\n",
       " ('most', 50),\n",
       " ('hot', 49),\n",
       " ('disappointed', 46)]"
      ]
     },
     "execution_count": 14,
     "metadata": {},
     "output_type": "execute_result"
    }
   ],
   "source": [
    "# Do the same for the negative reviews\n",
    "hkong_neg_reviews = hkong[hkong['Rating_Type']=='Negative']\n",
    "\n",
    "hkong_neg_adj = [token.text.lower() for doc in hkong_neg_reviews.spacy_doc for token in doc if token.pos_=='ADJ']\n",
    "\n",
    "# Top 20 common adjectives in negative reviews\n",
    "hkong_neg_adj = Counter(hkong_neg_adj).most_common(20)\n",
    "hkong_neg_adj"
   ]
  },
  {
   "cell_type": "markdown",
   "id": "bc645102",
   "metadata": {},
   "source": [
    "# Topic Modeling - LSA with TdifVectorizer"
   ]
  },
  {
   "cell_type": "code",
   "execution_count": 22,
   "id": "15d874e4",
   "metadata": {},
   "outputs": [],
   "source": [
    "# Merge all tokens together and build Vectorizer with cleaned text data\n",
    "calif_docs_list_clean = [' '.join(doc) for doc in calif.docs_clean]\n",
    "paris_docs_list_clean = [' '.join(doc) for doc in paris.docs_clean]\n",
    "hkong_docs_list_clean = [' '.join(doc) for doc in hkong.docs_clean]"
   ]
  },
  {
   "cell_type": "code",
   "execution_count": 19,
   "id": "20951c15",
   "metadata": {},
   "outputs": [],
   "source": [
    "# Function to display top words for each topic\n",
    "def display_topics(model, feature_names, no_top_words, topic_names=None):\n",
    "    for ix, topic in enumerate(model.components_):\n",
    "        if not topic_names or not topic_names[ix]:\n",
    "            print(\"\\nTopic \", ix)\n",
    "        else:\n",
    "            print(\"\\nTopic: '\",topic_names[ix],\"'\")\n",
    "        print(\", \".join([feature_names[i]\n",
    "                        for i in topic.argsort()[:-no_top_words - 1:-1]]))"
   ]
  },
  {
   "cell_type": "markdown",
   "id": "4e8969a7",
   "metadata": {},
   "source": [
    "### Vectorize, Fit the Model"
   ]
  },
  {
   "cell_type": "code",
   "execution_count": 18,
   "id": "80227bb6",
   "metadata": {},
   "outputs": [],
   "source": [
    "# Disney - California\n",
    "# Convert documents to document-term matrix using TdifVectorizer, remove English stop words\n",
    "tfv = TfidfVectorizer(stop_words='english')\n",
    "X = tfv.fit_transform(calif_docs_list_clean)\n",
    "\n",
    "df_X = pd.DataFrame(X.toarray(), columns=tfv.get_feature_names_out())\n",
    "\n",
    "# Fit the model\n",
    "num_topics=4\n",
    "\n",
    "calif_lsa_topics = TruncatedSVD(num_topics)\n",
    "calif_lsa_doc_topic = calif_lsa_topics.fit(X)"
   ]
  },
  {
   "cell_type": "code",
   "execution_count": 28,
   "id": "dcc76fa5",
   "metadata": {},
   "outputs": [],
   "source": [
    "# Disney - Paris\n",
    "# Convert documents to document-term matrix using TdifVectorizer, remove English stop words\n",
    "tfv = TfidfVectorizer(stop_words='english')\n",
    "X2 = tfv.fit_transform(paris_docs_list_clean)\n",
    "\n",
    "df_X2 = pd.DataFrame(X2.toarray(), columns=tfv.get_feature_names_out())\n",
    "\n",
    "# Fit the model\n",
    "paris_lsa_topics = TruncatedSVD(num_topics)\n",
    "paris_lsa_doc_topic = paris_lsa_topics.fit(X2)"
   ]
  },
  {
   "cell_type": "code",
   "execution_count": 32,
   "id": "7c4a135f",
   "metadata": {},
   "outputs": [],
   "source": [
    "# Disney - HongKong\n",
    "# Convert documents to document-term matrix using TdifVectorizer, remove English stop words\n",
    "tfv = TfidfVectorizer(stop_words='english')\n",
    "X3 = tfv.fit_transform(hkong_docs_list_clean)\n",
    "\n",
    "df_X3 = pd.DataFrame(X3.toarray(), columns=tfv.get_feature_names_out())\n",
    "\n",
    "# Fit the model\n",
    "hkong_lsa_topics = TruncatedSVD(num_topics)\n",
    "hkong_lsa_doc_topic = hkong_lsa_topics.fit(X3)"
   ]
  },
  {
   "cell_type": "markdown",
   "id": "e3c97dbb",
   "metadata": {},
   "source": [
    "### Display Topics"
   ]
  },
  {
   "cell_type": "code",
   "execution_count": 23,
   "id": "a02538fa",
   "metadata": {},
   "outputs": [
    {
     "name": "stdout",
     "output_type": "stream",
     "text": [
      "\n",
      "Topic  0\n",
      "ride, park, time, day, disneyland, disney, great, line, pass, love\n",
      "\n",
      "Topic  1\n",
      "place, love, disneyland, happy, earth, disney, year, visit, kid, family\n",
      "\n",
      "Topic  2\n",
      "disney, park, world, florida, small, california, adventure, visit, original, walt\n",
      "\n",
      "Topic  3\n",
      "day, place, park, earth, happy, pass, hopper, ticket, spend, california\n"
     ]
    }
   ],
   "source": [
    "# Disney - California\n",
    "display_topics(calif_lsa_topics, tfv.get_feature_names_out(), 10)"
   ]
  },
  {
   "cell_type": "code",
   "execution_count": 30,
   "id": "5b87ce8d",
   "metadata": {},
   "outputs": [
    {
     "name": "stdout",
     "output_type": "stream",
     "text": [
      "\n",
      "Topic  0\n",
      "ride, park, day, disneyland, disney, time, visit, kid, good, great\n",
      "\n",
      "Topic  1\n",
      "place, kid, enjoy, visit, family, parade, adult, love, firework, fun\n",
      "\n",
      "Topic  2\n",
      "kong, hong, disneyland, visit, disney, small, world, compare, paris, place\n",
      "\n",
      "Topic  3\n",
      "disney, park, small, great, kid, fun, love, place, child, world\n"
     ]
    }
   ],
   "source": [
    "# Disney- Paris\n",
    "display_topics(paris_lsa_topics, tfv.get_feature_names_out(), 10)"
   ]
  },
  {
   "cell_type": "code",
   "execution_count": 33,
   "id": "1c179f27",
   "metadata": {},
   "outputs": [
    {
     "name": "stdout",
     "output_type": "stream",
     "text": [
      "\n",
      "Topic  0\n",
      "ride, park, day, disneyland, disney, time, visit, kid, good, great\n",
      "\n",
      "Topic  1\n",
      "place, kid, enjoy, visit, family, parade, adult, love, happy, firework\n",
      "\n",
      "Topic  2\n",
      "kong, hong, disneyland, visit, disney, small, world, compare, place, paris\n",
      "\n",
      "Topic  3\n",
      "disney, park, kid, great, small, place, fun, love, like, world\n"
     ]
    }
   ],
   "source": [
    "# Disney - Hong Kong\n",
    "display_topics(hkong_lsa_topics, tfv.get_feature_names_out(), 10)"
   ]
  },
  {
   "cell_type": "markdown",
   "id": "9dca374b",
   "metadata": {},
   "source": [
    "# Topic Modeling with CorEx \n",
    "### Unsupervised, No Anchor Words"
   ]
  },
  {
   "cell_type": "code",
   "execution_count": 39,
   "id": "c9a8658d",
   "metadata": {},
   "outputs": [],
   "source": [
    "# Vectorize the document\n",
    "vectorizer = CountVectorizer(max_features=2500,\n",
    "                             stop_words='english', \n",
    "                             token_pattern=\"\\\\b[a-z][a-z]+\\\\b\",\n",
    "                             binary=True)"
   ]
  },
  {
   "cell_type": "code",
   "execution_count": 41,
   "id": "b170b04e",
   "metadata": {},
   "outputs": [],
   "source": [
    "calif_word = vectorizer.fit_transform(calif_docs_list_clean)\n",
    "calif_words = list(np.asarray(vectorizer.get_feature_names_out()))\n",
    "\n",
    "paris_word = vectorizer.fit_transform(paris_docs_list_clean)\n",
    "paris_words = list(np.asarray(vectorizer.get_feature_names_out()))\n",
    "\n",
    "hkong_word = vectorizer.fit_transform(hkong_docs_list_clean)\n",
    "hkong_words = list(np.asarray(vectorizer.get_feature_names_out()))"
   ]
  },
  {
   "cell_type": "code",
   "execution_count": 50,
   "id": "fbde390e",
   "metadata": {},
   "outputs": [
    {
     "name": "stdout",
     "output_type": "stream",
     "text": [
      "0: people, disney, like, disneyland, way, think, know, tell, thing, try\n",
      "1: day, park, pass, fast, ticket, early, california, adventure, hotel, use\n",
      "2: main, parade, street, firework, walk, character, night, mickey, area, sit\n",
      "3: wait, ride, line, hour, time, long, minute, want, crowd, open\n",
      "4: mountain, space, jones, indiana, haunted, mansion, thunder, splash, caribbean, star\n"
     ]
    }
   ],
   "source": [
    "# Disney - California\n",
    "calif_topic_model = ct.Corex(n_hidden= 5,\n",
    "                       words=calif_words, \n",
    "                       seed=1)\n",
    "\n",
    "calif_topic_model.fit(calif_word,         \n",
    "                words= calif_words,     \n",
    "                docs= calif.docs_clean)\n",
    "\n",
    "# Topics without anchored words\n",
    "calif_topics = calif_topic_model.get_topics()\n",
    "for n,topic in enumerate(calif_topics):\n",
    "    topic_words,_,_ = zip(*topic)\n",
    "    print(f'{n}: {\", \".join(topic_words)}')"
   ]
  },
  {
   "cell_type": "code",
   "execution_count": 49,
   "id": "2ea23982",
   "metadata": {},
   "outputs": [
    {
     "name": "stdout",
     "output_type": "stream",
     "text": [
      "0: hotel, food, stay, queue, eat, day, meal, hour, book, time\n",
      "1: people, staff, leave, tell, say, way, pay, ask, service, need\n",
      "2: disney, park, paris, disneyland, like, think, small, minute, look, train\n",
      "3: character, parade, meet, mickey, castle, princess, little, old, year, night\n",
      "4: mountain, thunder, space, jones, indiana, peter, buzz, pan, caribbean, coaster\n"
     ]
    }
   ],
   "source": [
    "# Disney - Paris\n",
    "paris_topic_model = ct.Corex(n_hidden= 5,\n",
    "                       words=paris_words, \n",
    "                       seed=1)\n",
    "\n",
    "paris_topic_model.fit(paris_word,         \n",
    "                words= paris_words,     \n",
    "                docs= paris.docs_clean)\n",
    "\n",
    "# Topics without anchored words\n",
    "paris_topics = paris_topic_model.get_topics()\n",
    "for n,topic in enumerate(paris_topics):\n",
    "    topic_words,_,_ = zip(*topic)\n",
    "    print(f'{n}: {\", \".join(topic_words)}')"
   ]
  },
  {
   "cell_type": "code",
   "execution_count": 51,
   "id": "ab6e63e1",
   "metadata": {},
   "outputs": [
    {
     "name": "stdout",
     "output_type": "stream",
     "text": [
      "0: food, main, street, english, chinese, restaurant, lunch, people, way, good\n",
      "1: mountain, grizzly, mystic, space, manor, gulch, toy, story, lion, king\n",
      "2: ticket, wait, buy, long, time, line, minute, day, queue, pass\n",
      "3: mickey, parade, firework, character, night, water, pm, bring, photo, watch\n",
      "4: park, disney, hong, kong, small, world, disneyland, think, like, year\n"
     ]
    }
   ],
   "source": [
    "# Disney - Hong Kong\n",
    "hkong_topic_model = ct.Corex(n_hidden= 5,\n",
    "                       words=hkong_words, \n",
    "                       seed=1)\n",
    "\n",
    "hkong_topic_model.fit(hkong_word,         \n",
    "                words= hkong_words,     \n",
    "                docs= hkong.docs_clean)\n",
    "\n",
    "# Topics without anchored words\n",
    "hkong_topics = hkong_topic_model.get_topics()\n",
    "for n,topic in enumerate(hkong_topics):\n",
    "    topic_words,_,_ = zip(*topic)\n",
    "    print(f'{n}: {\", \".join(topic_words)}')"
   ]
  },
  {
   "cell_type": "markdown",
   "id": "6448e2d4",
   "metadata": {},
   "source": [
    "# Visualization with Scattertext"
   ]
  },
  {
   "cell_type": "code",
   "execution_count": 7,
   "id": "df7dfbd9",
   "metadata": {},
   "outputs": [],
   "source": [
    "# Load our chosen language model\n",
    "nlp = spacy.load('en_core_web_sm')"
   ]
  },
  {
   "cell_type": "code",
   "execution_count": 8,
   "id": "1daf6adc",
   "metadata": {},
   "outputs": [],
   "source": [
    "# Build corpus ----TAKES TOO LONG TO RUN --- ABANDON!\n",
    "calif_corpus = st.CorpusFromPandas(\n",
    "            calif,\n",
    "            category_col='Rating_Type',\n",
    "            text_col='Reviews',\n",
    "            nlp=nlp).build()"
   ]
  },
  {
   "cell_type": "code",
   "execution_count": null,
   "id": "b0a152ce",
   "metadata": {},
   "outputs": [],
   "source": [
    "# Create scattertext, save HTML file\n",
    "\n",
    "calif_html = st.produce_scattertext_explorer(\n",
    "        calif_corpus,\n",
    "        category='positive',\n",
    "        category_name='Positve',\n",
    "        not_category_name='Negative')"
   ]
  }
 ],
 "metadata": {
  "kernelspec": {
   "display_name": "Python [conda env:metis] *",
   "language": "python",
   "name": "conda-env-metis-py"
  },
  "language_info": {
   "codemirror_mode": {
    "name": "ipython",
    "version": 3
   },
   "file_extension": ".py",
   "mimetype": "text/x-python",
   "name": "python",
   "nbconvert_exporter": "python",
   "pygments_lexer": "ipython3",
   "version": "3.9.12"
  }
 },
 "nbformat": 4,
 "nbformat_minor": 5
}
