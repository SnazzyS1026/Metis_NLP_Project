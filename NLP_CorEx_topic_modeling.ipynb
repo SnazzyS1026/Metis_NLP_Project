{
 "cells": [
  {
   "cell_type": "markdown",
   "id": "ccc9bd98",
   "metadata": {},
   "source": [
    "# Load Data"
   ]
  },
  {
   "cell_type": "code",
   "execution_count": 3,
   "id": "8a016a8c",
   "metadata": {},
   "outputs": [],
   "source": [
    "import pandas as pd\n",
    "import numpy as np\n",
    "import matplotlib.pyplot as plt\n",
    "import seaborn as sns\n",
    "%matplotlib inline\n",
    "\n",
    "from collections import Counter\n",
    "\n",
    "# Preprocessing Tools\n",
    "import re\n",
    "import string\n",
    "\n",
    "# NLTK library\n",
    "import nltk\n",
    "from nltk import word_tokenize\n",
    "from nltk.corpus import stopwords\n",
    "from nltk.tokenize import RegexpTokenizer, MWETokenizer\n",
    "from nltk.stem import LancasterStemmer, PorterStemmer, WordNetLemmatizer\n",
    "\n",
    "import spacy\n",
    "\n",
    "# Document-Term Matrix\n",
    "from sklearn.feature_extraction.text import CountVectorizer\n",
    "\n",
    "# Topic Modeling\n",
    "from corextopic import corextopic as ct\n",
    "from corextopic import vis_topic as vt"
   ]
  },
  {
   "cell_type": "code",
   "execution_count": 4,
   "id": "26a6c63f",
   "metadata": {},
   "outputs": [
    {
     "data": {
      "text/html": [
       "<div>\n",
       "<style scoped>\n",
       "    .dataframe tbody tr th:only-of-type {\n",
       "        vertical-align: middle;\n",
       "    }\n",
       "\n",
       "    .dataframe tbody tr th {\n",
       "        vertical-align: top;\n",
       "    }\n",
       "\n",
       "    .dataframe thead th {\n",
       "        text-align: right;\n",
       "    }\n",
       "</style>\n",
       "<table border=\"1\" class=\"dataframe\">\n",
       "  <thead>\n",
       "    <tr style=\"text-align: right;\">\n",
       "      <th></th>\n",
       "      <th>ID</th>\n",
       "      <th>Rating</th>\n",
       "      <th>Date</th>\n",
       "      <th>Reviewer_Location</th>\n",
       "      <th>Reviews</th>\n",
       "      <th>Branch</th>\n",
       "      <th>Rating_Type</th>\n",
       "      <th>Sentiment_Score</th>\n",
       "    </tr>\n",
       "  </thead>\n",
       "  <tbody>\n",
       "    <tr>\n",
       "      <th>0</th>\n",
       "      <td>670772142</td>\n",
       "      <td>4</td>\n",
       "      <td>2019-4</td>\n",
       "      <td>Australia</td>\n",
       "      <td>If you've ever been to Disneyland anywhere you'll find Disneyland Hong Kong very similar in the layout when you walk into main street! It has a very familiar feel. One of the rides  its a Small World  is absolutely fabulous and worth doing. The day we visited was fairly hot and relatively busy but the queues moved fairly well.</td>\n",
       "      <td>HongKong</td>\n",
       "      <td>Positive</td>\n",
       "      <td>0.7069</td>\n",
       "    </tr>\n",
       "  </tbody>\n",
       "</table>\n",
       "</div>"
      ],
      "text/plain": [
       "          ID  Rating    Date Reviewer_Location  \\\n",
       "0  670772142       4  2019-4         Australia   \n",
       "\n",
       "                                                                                                                                                                                                                                                                                                                                     Reviews  \\\n",
       "0  If you've ever been to Disneyland anywhere you'll find Disneyland Hong Kong very similar in the layout when you walk into main street! It has a very familiar feel. One of the rides  its a Small World  is absolutely fabulous and worth doing. The day we visited was fairly hot and relatively busy but the queues moved fairly well.    \n",
       "\n",
       "     Branch Rating_Type  Sentiment_Score  \n",
       "0  HongKong    Positive           0.7069  "
      ]
     },
     "execution_count": 4,
     "metadata": {},
     "output_type": "execute_result"
    }
   ],
   "source": [
    "# Set the display constraints to be able to read entire reviews\n",
    "pd.set_option('display.max_colwidth', None)\n",
    "\n",
    "# open pickle file with sentiment and score\n",
    "df = pd.read_pickle('df_sentiment_score_pkl')\n",
    "df.head(1)"
   ]
  },
  {
   "cell_type": "markdown",
   "id": "c09fa32d",
   "metadata": {},
   "source": [
    "# Preprocessing"
   ]
  },
  {
   "cell_type": "code",
   "execution_count": 5,
   "id": "a51a0f79",
   "metadata": {},
   "outputs": [
    {
     "data": {
      "text/html": [
       "<div>\n",
       "<style scoped>\n",
       "    .dataframe tbody tr th:only-of-type {\n",
       "        vertical-align: middle;\n",
       "    }\n",
       "\n",
       "    .dataframe tbody tr th {\n",
       "        vertical-align: top;\n",
       "    }\n",
       "\n",
       "    .dataframe thead th {\n",
       "        text-align: right;\n",
       "    }\n",
       "</style>\n",
       "<table border=\"1\" class=\"dataframe\">\n",
       "  <thead>\n",
       "    <tr style=\"text-align: right;\">\n",
       "      <th></th>\n",
       "      <th>ID</th>\n",
       "      <th>Rating</th>\n",
       "      <th>Date</th>\n",
       "      <th>Reviewer_Location</th>\n",
       "      <th>Reviews</th>\n",
       "      <th>Branch</th>\n",
       "      <th>Rating_Type</th>\n",
       "      <th>Sentiment_Score</th>\n",
       "    </tr>\n",
       "  </thead>\n",
       "  <tbody>\n",
       "    <tr>\n",
       "      <th>0</th>\n",
       "      <td>670772142</td>\n",
       "      <td>4</td>\n",
       "      <td>2019-4</td>\n",
       "      <td>Australia</td>\n",
       "      <td>if you ve ever been to disneyland anywhere you ll find disneyland hong kong very similar in the layout when you walk into main street  it has a very familiar feel  one of the rides  its a small world  is absolutely fabulous and worth doing  the day we visited was fairly hot and relatively busy but the queues moved fairly well</td>\n",
       "      <td>HongKong</td>\n",
       "      <td>Positive</td>\n",
       "      <td>0.7069</td>\n",
       "    </tr>\n",
       "  </tbody>\n",
       "</table>\n",
       "</div>"
      ],
      "text/plain": [
       "          ID  Rating    Date Reviewer_Location  \\\n",
       "0  670772142       4  2019-4         Australia   \n",
       "\n",
       "                                                                                                                                                                                                                                                                                                                                     Reviews  \\\n",
       "0  if you ve ever been to disneyland anywhere you ll find disneyland hong kong very similar in the layout when you walk into main street  it has a very familiar feel  one of the rides  its a small world  is absolutely fabulous and worth doing  the day we visited was fairly hot and relatively busy but the queues moved fairly well     \n",
       "\n",
       "     Branch Rating_Type  Sentiment_Score  \n",
       "0  HongKong    Positive           0.7069  "
      ]
     },
     "execution_count": 5,
     "metadata": {},
     "output_type": "execute_result"
    }
   ],
   "source": [
    "# Text preprocessing steps - remove numbers, captial letters and punctuation\n",
    "alphanumeric = lambda x: re.sub('\\w*\\d\\w*', ' ', x)\n",
    "punc_lower = lambda x: re.sub('[%s]' % re.escape(string.punctuation), ' ', x.lower())\n",
    "\n",
    "df['Reviews'] = df.Reviews.map(alphanumeric).map(punc_lower)\n",
    "df.head(1)"
   ]
  },
  {
   "cell_type": "code",
   "execution_count": 6,
   "id": "936ab7a4",
   "metadata": {},
   "outputs": [],
   "source": [
    "# Compound Term Extraction - link common phrases and words\n",
    "mwe_word_list = [('small', 'world'), ('hong', 'kong'), ('space', 'mountain'), \n",
    "                         ('happiest', 'place', 'on', 'earth'), ('haunted', 'mansion'), \n",
    "                         ('park', 'hopper'), ('fast', 'pass'), ('indiana', 'jones'), \n",
    "                        ('pirates','of','the','caribbean'), ('mickey', 'mouse'), \n",
    "                     ('peter', 'pan'), ('star', 'wars'), ('california', 'adventure'),\n",
    "                    ('lion', 'king'), ('buzz', 'lightyear'), ('roller', 'coaster'),\n",
    "                    ('toy', 'story'), ('jungle', 'cruise'), ('radiator', 'springs')]\n",
    "\n",
    "mwe_tokenizer = MWETokenizer(mwe_word_list)"
   ]
  },
  {
   "cell_type": "code",
   "execution_count": 7,
   "id": "629c8166",
   "metadata": {},
   "outputs": [
    {
     "data": {
      "text/plain": [
       "0                                                                                                                                                                                                                                                                       [if, you, ve, ever, been, to, disneyland, anywhere, you, ll, find, disneyland, hong_kong, very, similar, in, the, layout, when, you, walk, into, main, street, it, has, a, very, familiar, feel, one, of, the, rides, its, a, small_world, is, absolutely, fabulous, and, worth, doing, the, day, we, visited, was, fairly, hot, and, relatively, busy, but, the, queues, moved, fairly, well]\n",
       "1    [its, been, a, while, since, d, last, time, we, visit, hk, disneyland, yet, this, time, we, only, stay, in, tomorrowland, aka, marvel, land, now, they, have, iron, man, experience, n, d, newly, open, ant, man, n, d, wasp, ironman, great, feature, n, so, exciting, especially, d, whole, scenery, of, hk, hk, central, area, to, kowloon, antman, changed, by, previous, buzz_lightyear, more, or, less, d, same, but, i, m, expecting, to, have, something, most, however, my, boys, like, it, space_mountain, turns, into, star_wars, this, is, great, for, cast, members, staffs, felt, bit, minus, point, from, before, just, dun, feel, like, its, ...]\n",
       "2                                     [thanks, god, it, wasn, t, too, hot, or, too, humid, when, i, was, visiting, the, park, otherwise, it, would, be, a, big, issue, there, is, not, a, lot, of, shade, i, have, arrived, around, and, left, at, unfortunately, i, didn, t, last, until, evening, parade, but, hours, was, too, much, for, me, there, is, plenty, to, do, and, everyone, will, find, something, interesting, for, themselves, to, enjoy, it, wasn, t, extremely, busy, and, the, longest, time, i, had, to, queue, for, certain, attractions, was, minutes, which, is, really, not, that, bad, although, i, had, an, amazing, time, i, felt, a, ...]\n",
       "Name: mwe_clean, dtype: object"
      ]
     },
     "execution_count": 7,
     "metadata": {},
     "output_type": "execute_result"
    }
   ],
   "source": [
    "# Create a column with the tokenized words\n",
    "df['mwe_clean'] = df.Reviews.apply(lambda x: mwe_tokenizer.tokenize(x.split()))\n",
    "df['mwe_clean'][:3]"
   ]
  },
  {
   "cell_type": "code",
   "execution_count": 8,
   "id": "e081dbc3",
   "metadata": {},
   "outputs": [
    {
     "data": {
      "text/plain": [
       "['if you ve ever been to disneyland anywhere you ll find disneyland hong_kong very similar in the layout when you walk into main street it has a very familiar feel one of the rides its a small_world is absolutely fabulous and worth doing the day we visited was fairly hot and relatively busy but the queues moved fairly well',\n",
       " 'its been a while since d last time we visit hk disneyland yet this time we only stay in tomorrowland aka marvel land now they have iron man experience n d newly open ant man n d wasp ironman great feature n so exciting especially d whole scenery of hk hk central area to kowloon antman changed by previous buzz_lightyear more or less d same but i m expecting to have something most however my boys like it space_mountain turns into star_wars this is great for cast members staffs felt bit minus point from before just dun feel like its a disney brand seems more local like ocean park or even worst they got no smiling face but just wanna u to enter n attraction n leave hello this is supposed to be happiest_place_on_earth brand but just really dont feel it bakery in main street now have more attractive delicacies n disney theme sweets these are good points last they also have starbucks now inside the theme park',\n",
       " 'thanks god it wasn t too hot or too humid when i was visiting the park otherwise it would be a big issue there is not a lot of shade i have arrived around and left at unfortunately i didn t last until evening parade but hours was too much for me there is plenty to do and everyone will find something interesting for themselves to enjoy it wasn t extremely busy and the longest time i had to queue for certain attractions was minutes which is really not that bad although i had an amazing time i felt a bit underwhelmed with choice of rides and attractions the park itself is quite small i was really expecting something grand even the main castle which was closed by the way was quite small the food options are good few coffee shops including starbucks and plenty of gift shops there was no issue with toilets as they are everywhere all together it was a great day out and i really enjoyed it']"
      ]
     },
     "execution_count": 8,
     "metadata": {},
     "output_type": "execute_result"
    }
   ],
   "source": [
    "# Merge all tokens together and build Vectorizer with cleaned text data\n",
    "mwe_clean_docs = [' '.join(doc) for doc in df.mwe_clean]\n",
    "mwe_clean_docs[:3]"
   ]
  },
  {
   "cell_type": "markdown",
   "id": "3b3cce09",
   "metadata": {},
   "source": [
    "# Topic Modeling - CorEx"
   ]
  },
  {
   "cell_type": "code",
   "execution_count": 9,
   "id": "6e46846b",
   "metadata": {},
   "outputs": [],
   "source": [
    "# Vectorize the document\n",
    "vectorizer = CountVectorizer(max_features=2500,\n",
    "                             stop_words='english', \n",
    "                              #token_pattern=\"\\\\b[a-z][a-z]+\\\\b\",\n",
    "                             binary=True)\n",
    "doc_word = vectorizer.fit_transform(mwe_clean_docs)\n",
    "words = list(np.asarray(vectorizer.get_feature_names_out()))"
   ]
  },
  {
   "cell_type": "code",
   "execution_count": 10,
   "id": "dec0ff67",
   "metadata": {},
   "outputs": [
    {
     "data": {
      "text/plain": [
       "(37547, 2500)"
      ]
     },
     "execution_count": 10,
     "metadata": {},
     "output_type": "execute_result"
    }
   ],
   "source": [
    "doc_word.shape"
   ]
  },
  {
   "cell_type": "code",
   "execution_count": 11,
   "id": "4d4ce463",
   "metadata": {},
   "outputs": [
    {
     "data": {
      "text/plain": [
       "['ability',\n",
       " 'able',\n",
       " 'absolute',\n",
       " 'absolutely',\n",
       " 'accept',\n",
       " 'acceptable',\n",
       " 'access',\n",
       " 'accessible',\n",
       " 'accommodate',\n",
       " 'accommodating',\n",
       " 'accommodation',\n",
       " 'according',\n",
       " 'accordingly',\n",
       " 'accurate',\n",
       " 'act',\n",
       " 'action',\n",
       " 'activities',\n",
       " 'activity',\n",
       " 'actors',\n",
       " 'actual']"
      ]
     },
     "execution_count": 11,
     "metadata": {},
     "output_type": "execute_result"
    }
   ],
   "source": [
    "words[:20]"
   ]
  },
  {
   "cell_type": "code",
   "execution_count": 12,
   "id": "22ce90df",
   "metadata": {},
   "outputs": [
    {
     "data": {
      "text/plain": [
       "<corextopic.corextopic.Corex at 0x2a34be78b50>"
      ]
     },
     "execution_count": 12,
     "metadata": {},
     "output_type": "execute_result"
    }
   ],
   "source": [
    "# Create an unsupervised topic model with CorEx without the use of anchor words\n",
    "topic_model = ct.Corex(n_hidden= 10,\n",
    "                       words=words, \n",
    "                       seed=1)\n",
    "\n",
    "topic_model.fit(doc_word,         \n",
    "                words= words,     \n",
    "                docs= mwe_clean_docs)\n"
   ]
  },
  {
   "cell_type": "code",
   "execution_count": 13,
   "id": "d1b258f2",
   "metadata": {},
   "outputs": [
    {
     "name": "stdout",
     "output_type": "stream",
     "text": [
      "0: people, staff, money, told, think, know, rude, closed, let, said\n",
      "1: time, use, line, fast, wait, early, fast_pass, passes, make, times\n",
      "2: did, minutes, got, hour, main, way, hours, tickets, walk, street\n",
      "3: food, hotel, water, meal, eat, lunch, expensive, breakfast, restaurant, drinks\n",
      "4: disney, park, parks, paris, florida, magic, studios, queues, having, better\n",
      "5: just, like, year, old, disneyland, really, going, little, years, trip\n",
      "6: day, parade, fireworks, rides, night, went, didn, days, end, evening\n",
      "7: train, manor, grizzly, castle, station, mystic, land, mtr, lion_king, hong_kong\n",
      "8: characters, meet, mickey, queue, character, good, photo, minnie, children, photos\n",
      "9: mountain, thunder, ride, space_mountain, indiana_jones, splash, pirates_of_the_caribbean, tours, pirates, small_world\n"
     ]
    }
   ],
   "source": [
    "# Topics without anchored words\n",
    "topics = topic_model.get_topics()\n",
    "for n,topic in enumerate(topics):\n",
    "    topic_words,_,_ = zip(*topic)\n",
    "    print(f'{n}: {\", \".join(topic_words)}')"
   ]
  },
  {
   "cell_type": "code",
   "execution_count": 17,
   "id": "9eb88626",
   "metadata": {},
   "outputs": [],
   "source": [
    "# Create semi-supervised topic model with CorEx with the use of anchor words\n",
    "\"\"\"\n",
    "The anchors we'll use are:\n",
    "\n",
    "1. disneyland, disney, california\n",
    "2. disneyland, paris\n",
    "3. disneyland, hong kong\n",
    "4. disney, food\n",
    "\n",
    "\"\"\"\n",
    "topic_model2 = ct.Corex(n_hidden= 6,\n",
    "                       words=words,  \n",
    "                       seed=1)\n",
    "\n",
    "topic_model2.fit(doc_word,\n",
    "                words= words,\n",
    "                docs= mwe_clean_docs,\n",
    "                anchors=[\n",
    "                         ['disneyland', 'disney', 'california'],\n",
    "                         ['disneyland', 'disney', 'paris'],\n",
    "                         ['disneyland', 'disney', 'hong_kong'],\n",
    "                         ['disney', 'food'],\n",
    "                         ['disney', 'parade']],\n",
    "                anchor_strength=5);"
   ]
  },
  {
   "cell_type": "code",
   "execution_count": 18,
   "id": "50ea3960",
   "metadata": {},
   "outputs": [
    {
     "name": "stdout",
     "output_type": "stream",
     "text": [
      "0: disney, california, world, walt, downtown, fan, disneyland, fans, southern, original\n",
      "1: disney, paris, florida, disneyland, orlando, dreams, rer, comparison, typical, states\n",
      "2: disney, hong_kong, land, disneyland, smaller, compared, mtr, version, compare, scale\n",
      "3: food, expensive, disney, drinks, drink, quality, prices, options, bring, overpriced\n",
      "4: parade, fireworks, disney, night, watch, paint, miss, lion_king, floats, amazing\n",
      "5: ride, park, day, just, time, people, did, rides, hotel, got\n"
     ]
    }
   ],
   "source": [
    "# Topics with anchored words\n",
    "topics2 = topic_model2.get_topics()\n",
    "\n",
    "for n,topic in enumerate(topics2):\n",
    "    topic_words,_,_ = zip(*topic)\n",
    "    print(f'{n}: {\", \".join(topic_words)}')"
   ]
  },
  {
   "cell_type": "markdown",
   "id": "73abf319",
   "metadata": {},
   "source": [
    "# Preprocessing"
   ]
  },
  {
   "cell_type": "code",
   "execution_count": 19,
   "id": "a88adee2",
   "metadata": {},
   "outputs": [
    {
     "name": "stderr",
     "output_type": "stream",
     "text": [
      "[nltk_data] Downloading package stopwords to\n",
      "[nltk_data]     C:\\Users\\sandr\\AppData\\Roaming\\nltk_data...\n",
      "[nltk_data]   Package stopwords is already up-to-date!\n"
     ]
    }
   ],
   "source": [
    "#Loading Stopwords into a list\n",
    "nltk.download('stopwords')\n",
    "NLTK_stop_words_list = stopwords.words('english')\n",
    "\n",
    "# Adding new stop words\n",
    "add_stop_words_list = ['disneyland', 'disney']\n",
    "\n",
    "final_stop_words_list = (NLTK_stop_words_list + add_stop_words_list)    "
   ]
  },
  {
   "cell_type": "code",
   "execution_count": 20,
   "id": "3a54f973",
   "metadata": {},
   "outputs": [],
   "source": [
    "# Vectorize\n",
    "vectorizer2 = CountVectorizer(max_features=2500,\n",
    "                             stop_words=final_stop_words_list,\n",
    "                             #token_pattern=\"\\\\b[a-z][a-z]+\\\\b\",\n",
    "                             binary=True)\n",
    "doc_word2 = vectorizer2.fit_transform(mwe_clean_docs)\n",
    "words2 = list(np.asarray(vectorizer2.get_feature_names_out()))"
   ]
  },
  {
   "cell_type": "code",
   "execution_count": 21,
   "id": "82f28e64",
   "metadata": {},
   "outputs": [
    {
     "data": {
      "text/plain": [
       "<corextopic.corextopic.Corex at 0x2a363c5e7c0>"
      ]
     },
     "execution_count": 21,
     "metadata": {},
     "output_type": "execute_result"
    }
   ],
   "source": [
    "# Create an unsupervised topic model with CorEx without the use of anchor words\n",
    "topic_model3 = ct.Corex(n_hidden= 10,\n",
    "                       words=words2, \n",
    "                       seed=1)\n",
    "\n",
    "topic_model3.fit(doc_word2,         \n",
    "                words= words2,     \n",
    "                docs= mwe_clean_docs)"
   ]
  },
  {
   "cell_type": "code",
   "execution_count": 22,
   "id": "89570714",
   "metadata": {},
   "outputs": [
    {
     "name": "stdout",
     "output_type": "stream",
     "text": [
      "0: people, would, could, money, told, think, know, find, said, let\n",
      "1: ride, one, day, minutes, got, mountain, hour, thunder, hours, space_mountain\n",
      "2: food, paris, queues, queue, good, parks, staff, expensive, found, stayed\n",
      "3: get, take, time, go, early, want, make, water, plan, sure\n",
      "4: hotel, around, characters, see, lunch, breakfast, eat, meal, restaurant, dinner\n",
      "5: show, parade, main, castle, fireworks, street, mickey, night, train, lion_king\n",
      "6: year, back, old, even, days, cast, trip, last, made, going\n",
      "7: like, us, first, many, experience, magic, things, better, different, visit\n",
      "8: passes, times, line, use, fast, wait, fast_pass, indiana_jones, tours, star\n",
      "9: park, rides, also, really, much, well, went, bit, quite, worth\n"
     ]
    }
   ],
   "source": [
    "# Topics without anchored words\n",
    "topics3 = topic_model3.get_topics()\n",
    "for n,topic in enumerate(topics3):\n",
    "    topic_words,_,_ = zip(*topic)\n",
    "    print(f'{n}: {\", \".join(topic_words)}')"
   ]
  },
  {
   "cell_type": "code",
   "execution_count": 23,
   "id": "b60849cf",
   "metadata": {},
   "outputs": [],
   "source": [
    "# Create semi-supervised topic model with CorEx with the use of anchor words\n",
    "\"\"\"\n",
    "The anchors we'll use are:\n",
    "\n",
    "1. park, california\n",
    "2. park, paris\n",
    "3. park, hong kong\n",
    "4. park, food\n",
    "\n",
    "\"\"\"\n",
    "topic_model4 = ct.Corex(n_hidden= 6,\n",
    "                       words=words2,  \n",
    "                       seed=1)\n",
    "\n",
    "topic_model4.fit(doc_word2,\n",
    "                words= words2,\n",
    "                docs= mwe_clean_docs,\n",
    "                anchors=[\n",
    "                         ['park', 'california'],\n",
    "                         ['park', 'paris'],\n",
    "                         ['park', 'hong_kong'],\n",
    "                         ['food']],\n",
    "                anchor_strength=5);"
   ]
  },
  {
   "cell_type": "code",
   "execution_count": 57,
   "id": "fb45dc42",
   "metadata": {},
   "outputs": [
    {
     "name": "stdout",
     "output_type": "stream",
     "text": [
      "0: park, california, theme, hopper, clean, amusement, ocean, original, history, navigate\n",
      "1: park, paris, would, people, us, parks, could, hour, staff, two\n",
      "2: park, hong, kong, smaller, maintained, smallest, subway, attractive, senior, organized\n",
      "3: food, expensive, drinks, drink, quality, prices, options, overpriced, priced, pricey\n",
      "4: ride, get, one, mountain, time, day, rides, also, go, space\n",
      "5: hotel, take, around, show, see, good, characters, queue, parade, want\n"
     ]
    }
   ],
   "source": [
    "# Topics with anchored words\n",
    "topics4 = topic_model4.get_topics()\n",
    "\n",
    "for n,topic in enumerate(topics4):\n",
    "    topic_words,_,_ = zip(*topic)\n",
    "    print(f'{n}: {\", \".join(topic_words)}')"
   ]
  },
  {
   "cell_type": "code",
   "execution_count": null,
   "id": "afc1cf73",
   "metadata": {},
   "outputs": [],
   "source": []
  }
 ],
 "metadata": {
  "kernelspec": {
   "display_name": "Python [conda env:metis] *",
   "language": "python",
   "name": "conda-env-metis-py"
  },
  "language_info": {
   "codemirror_mode": {
    "name": "ipython",
    "version": 3
   },
   "file_extension": ".py",
   "mimetype": "text/x-python",
   "name": "python",
   "nbconvert_exporter": "python",
   "pygments_lexer": "ipython3",
   "version": "3.9.12"
  }
 },
 "nbformat": 4,
 "nbformat_minor": 5
}
